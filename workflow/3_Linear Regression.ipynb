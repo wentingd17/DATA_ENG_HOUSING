{
 "cells": [
  {
   "cell_type": "code",
   "execution_count": 1,
   "metadata": {},
   "outputs": [],
   "source": [
    "import numpy as np \n",
    "import pandas as pd \n",
    "import pickle\n",
    "\n",
    "import matplotlib.pyplot as plt \n",
    "%matplotlib inline\n",
    "\n",
    "import seaborn as sns\n",
    "from scipy import stats\n",
    "from scipy.stats import norm, skew\n",
    "\n",
    "from sklearn import preprocessing\n",
    "from sklearn.metrics import r2_score\n",
    "from sklearn.metrics import mean_squared_error\n",
    "from sklearn.model_selection import train_test_split\n",
    "from sklearn.linear_model import ElasticNetCV, ElasticNet\n",
    "from sklearn.linear_model import LinearRegression\n",
    "from sklearn.model_selection import train_test_split\n",
    "from sklearn.model_selection import KFold\n",
    "\n",
    "import xgboost\n",
    "from xgboost import XGBRegressor, plot_importance \n",
    "from sklearn.model_selection import RandomizedSearchCV\n",
    "from sklearn.model_selection import StratifiedKFold"
   ]
  },
  {
   "cell_type": "code",
   "execution_count": 24,
   "metadata": {},
   "outputs": [
    {
     "data": {
      "text/html": [
       "<div>\n",
       "<style scoped>\n",
       "    .dataframe tbody tr th:only-of-type {\n",
       "        vertical-align: middle;\n",
       "    }\n",
       "\n",
       "    .dataframe tbody tr th {\n",
       "        vertical-align: top;\n",
       "    }\n",
       "\n",
       "    .dataframe thead th {\n",
       "        text-align: right;\n",
       "    }\n",
       "</style>\n",
       "<table border=\"1\" class=\"dataframe\">\n",
       "  <thead>\n",
       "    <tr style=\"text-align: right;\">\n",
       "      <th></th>\n",
       "      <th>property_id</th>\n",
       "      <th>listing_id</th>\n",
       "      <th>status</th>\n",
       "      <th>list_date</th>\n",
       "      <th>list_price</th>\n",
       "      <th>description.sold_price</th>\n",
       "      <th>description.year_built</th>\n",
       "      <th>description.baths_3qtr</th>\n",
       "      <th>description.sold_date</th>\n",
       "      <th>description.baths_full</th>\n",
       "      <th>...</th>\n",
       "      <th>description.beds</th>\n",
       "      <th>location.address.postal_code</th>\n",
       "      <th>location.address.state</th>\n",
       "      <th>location.address.coordinate.lon</th>\n",
       "      <th>location.address.coordinate.lat</th>\n",
       "      <th>location.address.city</th>\n",
       "      <th>location.address.state_code</th>\n",
       "      <th>location.address.line</th>\n",
       "      <th>location.county.fips_code</th>\n",
       "      <th>location.county.name</th>\n",
       "    </tr>\n",
       "  </thead>\n",
       "  <tbody>\n",
       "    <tr>\n",
       "      <th>0</th>\n",
       "      <td>2507173757</td>\n",
       "      <td>2930532060</td>\n",
       "      <td>sold</td>\n",
       "      <td>2021-06-15T15:05:55Z</td>\n",
       "      <td>1549000.0</td>\n",
       "      <td>1760000</td>\n",
       "      <td>1926</td>\n",
       "      <td>NaN</td>\n",
       "      <td>2021-07-16</td>\n",
       "      <td>2.0</td>\n",
       "      <td>...</td>\n",
       "      <td>3.0</td>\n",
       "      <td>90026</td>\n",
       "      <td>California</td>\n",
       "      <td>-118.276835</td>\n",
       "      <td>34.085110</td>\n",
       "      <td>Los Angeles</td>\n",
       "      <td>CA</td>\n",
       "      <td>3380 Descanso Dr</td>\n",
       "      <td>06037</td>\n",
       "      <td>Los Angeles</td>\n",
       "    </tr>\n",
       "    <tr>\n",
       "      <th>1</th>\n",
       "      <td>1681184474</td>\n",
       "      <td>2927976112</td>\n",
       "      <td>sold</td>\n",
       "      <td>2021-04-09T21:02:06Z</td>\n",
       "      <td>879000.0</td>\n",
       "      <td>850000</td>\n",
       "      <td>2008</td>\n",
       "      <td>NaN</td>\n",
       "      <td>2021-07-16</td>\n",
       "      <td>1.0</td>\n",
       "      <td>...</td>\n",
       "      <td>1.0</td>\n",
       "      <td>90015</td>\n",
       "      <td>California</td>\n",
       "      <td>-118.263194</td>\n",
       "      <td>34.040804</td>\n",
       "      <td>Los Angeles</td>\n",
       "      <td>CA</td>\n",
       "      <td>1155 S Grand Ave Apt 1807</td>\n",
       "      <td>06037</td>\n",
       "      <td>Los Angeles</td>\n",
       "    </tr>\n",
       "    <tr>\n",
       "      <th>2</th>\n",
       "      <td>2913082626</td>\n",
       "      <td>2930168949</td>\n",
       "      <td>sold</td>\n",
       "      <td>2021-06-05T00:02:43Z</td>\n",
       "      <td>849000.0</td>\n",
       "      <td>1016000</td>\n",
       "      <td>1912</td>\n",
       "      <td>NaN</td>\n",
       "      <td>2021-07-16</td>\n",
       "      <td>2.0</td>\n",
       "      <td>...</td>\n",
       "      <td>2.0</td>\n",
       "      <td>90018</td>\n",
       "      <td>California</td>\n",
       "      <td>-118.314134</td>\n",
       "      <td>34.023169</td>\n",
       "      <td>Los Angeles</td>\n",
       "      <td>CA</td>\n",
       "      <td>3563 S Gramercy Pl</td>\n",
       "      <td>06037</td>\n",
       "      <td>Los Angeles</td>\n",
       "    </tr>\n",
       "    <tr>\n",
       "      <th>3</th>\n",
       "      <td>1415870805</td>\n",
       "      <td>2931114156</td>\n",
       "      <td>sold</td>\n",
       "      <td>2021-06-29T16:08:40Z</td>\n",
       "      <td>1499000.0</td>\n",
       "      <td>1625000</td>\n",
       "      <td>1900</td>\n",
       "      <td>NaN</td>\n",
       "      <td>2021-07-16</td>\n",
       "      <td>3.0</td>\n",
       "      <td>...</td>\n",
       "      <td>5.0</td>\n",
       "      <td>90026</td>\n",
       "      <td>California</td>\n",
       "      <td>-118.267025</td>\n",
       "      <td>34.079045</td>\n",
       "      <td>Los Angeles</td>\n",
       "      <td>CA</td>\n",
       "      <td>1107 Waterloo St</td>\n",
       "      <td>06037</td>\n",
       "      <td>Los Angeles</td>\n",
       "    </tr>\n",
       "    <tr>\n",
       "      <th>4</th>\n",
       "      <td>2820635269</td>\n",
       "      <td>2929515091</td>\n",
       "      <td>sold</td>\n",
       "      <td>2021-05-20T16:00:15Z</td>\n",
       "      <td>395000.0</td>\n",
       "      <td>385000</td>\n",
       "      <td>1985</td>\n",
       "      <td>NaN</td>\n",
       "      <td>2021-07-16</td>\n",
       "      <td>1.0</td>\n",
       "      <td>...</td>\n",
       "      <td>2.0</td>\n",
       "      <td>90044</td>\n",
       "      <td>California</td>\n",
       "      <td>-118.295523</td>\n",
       "      <td>33.930572</td>\n",
       "      <td>Los Angeles</td>\n",
       "      <td>CA</td>\n",
       "      <td>11401 Berendo Ave Apt 6</td>\n",
       "      <td>06037</td>\n",
       "      <td>Los Angeles</td>\n",
       "    </tr>\n",
       "  </tbody>\n",
       "</table>\n",
       "<p>5 rows × 27 columns</p>\n",
       "</div>"
      ],
      "text/plain": [
       "  property_id  listing_id status             list_date  list_price  \\\n",
       "0  2507173757  2930532060   sold  2021-06-15T15:05:55Z   1549000.0   \n",
       "1  1681184474  2927976112   sold  2021-04-09T21:02:06Z    879000.0   \n",
       "2  2913082626  2930168949   sold  2021-06-05T00:02:43Z    849000.0   \n",
       "3  1415870805  2931114156   sold  2021-06-29T16:08:40Z   1499000.0   \n",
       "4  2820635269  2929515091   sold  2021-05-20T16:00:15Z    395000.0   \n",
       "\n",
       "   description.sold_price  description.year_built  description.baths_3qtr  \\\n",
       "0                 1760000                    1926                     NaN   \n",
       "1                  850000                    2008                     NaN   \n",
       "2                 1016000                    1912                     NaN   \n",
       "3                 1625000                    1900                     NaN   \n",
       "4                  385000                    1985                     NaN   \n",
       "\n",
       "  description.sold_date  description.baths_full  ...  description.beds  \\\n",
       "0            2021-07-16                     2.0  ...               3.0   \n",
       "1            2021-07-16                     1.0  ...               1.0   \n",
       "2            2021-07-16                     2.0  ...               2.0   \n",
       "3            2021-07-16                     3.0  ...               5.0   \n",
       "4            2021-07-16                     1.0  ...               2.0   \n",
       "\n",
       "   location.address.postal_code  location.address.state  \\\n",
       "0                         90026              California   \n",
       "1                         90015              California   \n",
       "2                         90018              California   \n",
       "3                         90026              California   \n",
       "4                         90044              California   \n",
       "\n",
       "   location.address.coordinate.lon location.address.coordinate.lat  \\\n",
       "0                      -118.276835                       34.085110   \n",
       "1                      -118.263194                       34.040804   \n",
       "2                      -118.314134                       34.023169   \n",
       "3                      -118.267025                       34.079045   \n",
       "4                      -118.295523                       33.930572   \n",
       "\n",
       "   location.address.city  location.address.state_code  \\\n",
       "0            Los Angeles                           CA   \n",
       "1            Los Angeles                           CA   \n",
       "2            Los Angeles                           CA   \n",
       "3            Los Angeles                           CA   \n",
       "4            Los Angeles                           CA   \n",
       "\n",
       "       location.address.line location.county.fips_code location.county.name  \n",
       "0           3380 Descanso Dr                     06037          Los Angeles  \n",
       "1  1155 S Grand Ave Apt 1807                     06037          Los Angeles  \n",
       "2         3563 S Gramercy Pl                     06037          Los Angeles  \n",
       "3           1107 Waterloo St                     06037          Los Angeles  \n",
       "4    11401 Berendo Ave Apt 6                     06037          Los Angeles  \n",
       "\n",
       "[5 rows x 27 columns]"
      ]
     },
     "execution_count": 24,
     "metadata": {},
     "output_type": "execute_result"
    }
   ],
   "source": [
    "with open('./data/closed_listings_cleaned.pickle', 'rb') as read_file:\n",
    "    df = pickle.load(read_file)\n",
    "df.head()"
   ]
  },
  {
   "cell_type": "code",
   "execution_count": 25,
   "metadata": {},
   "outputs": [
    {
     "name": "stdout",
     "output_type": "stream",
     "text": [
      "<class 'pandas.core.frame.DataFrame'>\n",
      "Int64Index: 72662 entries, 0 to 243197\n",
      "Data columns (total 27 columns):\n",
      " #   Column                           Non-Null Count  Dtype  \n",
      "---  ------                           --------------  -----  \n",
      " 0   property_id                      72662 non-null  object \n",
      " 1   listing_id                       72662 non-null  object \n",
      " 2   status                           72662 non-null  object \n",
      " 3   list_date                        72661 non-null  object \n",
      " 4   list_price                       72662 non-null  float64\n",
      " 5   description.sold_price           72662 non-null  int64  \n",
      " 6   description.year_built           72662 non-null  int64  \n",
      " 7   description.baths_3qtr           3825 non-null   float64\n",
      " 8   description.sold_date            72662 non-null  object \n",
      " 9   description.baths_full           71011 non-null  float64\n",
      " 10  description.baths_half           19044 non-null  float64\n",
      " 11  description.lot_sqft             66486 non-null  float64\n",
      " 12  description.sqft                 72662 non-null  float64\n",
      " 13  description.baths                71477 non-null  float64\n",
      " 14  description.type                 72662 non-null  object \n",
      " 15  description.garage               58014 non-null  float64\n",
      " 16  description.stories              67233 non-null  float64\n",
      " 17  description.beds                 71687 non-null  float64\n",
      " 18  location.address.postal_code     72662 non-null  object \n",
      " 19  location.address.state           72662 non-null  object \n",
      " 20  location.address.coordinate.lon  72662 non-null  float64\n",
      " 21  location.address.coordinate.lat  72662 non-null  float64\n",
      " 22  location.address.city            72662 non-null  object \n",
      " 23  location.address.state_code      72662 non-null  object \n",
      " 24  location.address.line            72429 non-null  object \n",
      " 25  location.county.fips_code        72654 non-null  object \n",
      " 26  location.county.name             72661 non-null  object \n",
      "dtypes: float64(12), int64(2), object(13)\n",
      "memory usage: 15.5+ MB\n"
     ]
    }
   ],
   "source": [
    "df.info()"
   ]
  },
  {
   "cell_type": "code",
   "execution_count": 26,
   "metadata": {},
   "outputs": [],
   "source": [
    "df['price_change'] = 100*(df['description.sold_price'] - df['list_price'])/df['list_price']"
   ]
  },
  {
   "cell_type": "code",
   "execution_count": 27,
   "metadata": {},
   "outputs": [],
   "source": [
    "df = df[df['price_change'] <= 100]"
   ]
  },
  {
   "cell_type": "code",
   "execution_count": 28,
   "metadata": {},
   "outputs": [],
   "source": [
    "df = df[df['description.type'] != 'farm']"
   ]
  },
  {
   "cell_type": "code",
   "execution_count": 29,
   "metadata": {},
   "outputs": [],
   "source": [
    "df = df[df['description.sqft'] <= 5000]"
   ]
  },
  {
   "cell_type": "code",
   "execution_count": 45,
   "metadata": {},
   "outputs": [],
   "source": [
    "df = df[df['description.lot_sqft'] < 100000]"
   ]
  },
  {
   "cell_type": "code",
   "execution_count": 66,
   "metadata": {},
   "outputs": [],
   "source": [
    "df = df[df['description.sold_price'] <  10000000 ] "
   ]
  },
  {
   "cell_type": "code",
   "execution_count": 68,
   "metadata": {},
   "outputs": [],
   "source": [
    "#randomly sample 20% data and create a pairplot\n",
    "sample_df = df.sample(n = 1000, replace = False)"
   ]
  },
  {
   "cell_type": "code",
   "execution_count": 69,
   "metadata": {
    "scrolled": false
   },
   "outputs": [
    {
     "data": {
      "text/plain": [
       "<seaborn.axisgrid.PairGrid at 0x233acaf10>"
      ]
     },
     "execution_count": 69,
     "metadata": {},
     "output_type": "execute_result"
    },
    {
     "data": {
      "image/png": "[encoded data removed]",
      "text/plain": [
       "<Figure size 2340x2340 with 104 Axes>"
      ]
     },
     "metadata": {
      "needs_background": "light"
     },
     "output_type": "display_data"
    }
   ],
   "source": [
    "sns.pairplot(sample_df, corner=True)"
   ]
  },
  {
   "cell_type": "code",
   "execution_count": 50,
   "metadata": {},
   "outputs": [],
   "source": [
    "#Remove lan, lon, state and address columns\n",
    "df.drop(columns = ['location.address.coordinate.lon','location.address.coordinate.lat','location.address.state','location.address.state_code', 'location.address.line','description.sold_date'], inplace = True)"
   ]
  },
  {
   "cell_type": "code",
   "execution_count": 70,
   "metadata": {},
   "outputs": [
    {
     "data": {
      "text/html": [
       "<div>\n",
       "<style scoped>\n",
       "    .dataframe tbody tr th:only-of-type {\n",
       "        vertical-align: middle;\n",
       "    }\n",
       "\n",
       "    .dataframe tbody tr th {\n",
       "        vertical-align: top;\n",
       "    }\n",
       "\n",
       "    .dataframe thead th {\n",
       "        text-align: right;\n",
       "    }\n",
       "</style>\n",
       "<table border=\"1\" class=\"dataframe\">\n",
       "  <thead>\n",
       "    <tr style=\"text-align: right;\">\n",
       "      <th></th>\n",
       "      <th>list_price</th>\n",
       "      <th>description.sold_price</th>\n",
       "      <th>description.year_built</th>\n",
       "      <th>description.baths_3qtr</th>\n",
       "      <th>description.baths_full</th>\n",
       "      <th>description.baths_half</th>\n",
       "      <th>description.lot_sqft</th>\n",
       "      <th>description.sqft</th>\n",
       "      <th>description.baths</th>\n",
       "      <th>description.garage</th>\n",
       "      <th>description.stories</th>\n",
       "      <th>description.beds</th>\n",
       "      <th>price_change</th>\n",
       "    </tr>\n",
       "  </thead>\n",
       "  <tbody>\n",
       "    <tr>\n",
       "      <th>count</th>\n",
       "      <td>5.980000e+04</td>\n",
       "      <td>5.980000e+04</td>\n",
       "      <td>59800.000000</td>\n",
       "      <td>3237.000000</td>\n",
       "      <td>58381.000000</td>\n",
       "      <td>15447.000000</td>\n",
       "      <td>59800.000000</td>\n",
       "      <td>59800.000000</td>\n",
       "      <td>58752.000000</td>\n",
       "      <td>49374.000000</td>\n",
       "      <td>56002.000000</td>\n",
       "      <td>58939.000000</td>\n",
       "      <td>59800.000000</td>\n",
       "    </tr>\n",
       "    <tr>\n",
       "      <th>mean</th>\n",
       "      <td>8.334807e+05</td>\n",
       "      <td>8.705144e+05</td>\n",
       "      <td>1976.739114</td>\n",
       "      <td>1.203275</td>\n",
       "      <td>2.128124</td>\n",
       "      <td>1.022723</td>\n",
       "      <td>12293.299114</td>\n",
       "      <td>1863.888512</td>\n",
       "      <td>2.448393</td>\n",
       "      <td>2.234354</td>\n",
       "      <td>1.475608</td>\n",
       "      <td>3.263221</td>\n",
       "      <td>4.164238</td>\n",
       "    </tr>\n",
       "    <tr>\n",
       "      <th>std</th>\n",
       "      <td>7.080895e+05</td>\n",
       "      <td>7.292404e+05</td>\n",
       "      <td>26.239634</td>\n",
       "      <td>0.519771</td>\n",
       "      <td>0.801908</td>\n",
       "      <td>0.175368</td>\n",
       "      <td>15780.403068</td>\n",
       "      <td>791.988068</td>\n",
       "      <td>0.936745</td>\n",
       "      <td>29.316237</td>\n",
       "      <td>0.908279</td>\n",
       "      <td>1.038327</td>\n",
       "      <td>8.199701</td>\n",
       "    </tr>\n",
       "    <tr>\n",
       "      <th>min</th>\n",
       "      <td>1.000000e+04</td>\n",
       "      <td>1.850000e+02</td>\n",
       "      <td>1801.000000</td>\n",
       "      <td>1.000000</td>\n",
       "      <td>1.000000</td>\n",
       "      <td>1.000000</td>\n",
       "      <td>1.000000</td>\n",
       "      <td>100.000000</td>\n",
       "      <td>0.000000</td>\n",
       "      <td>1.000000</td>\n",
       "      <td>1.000000</td>\n",
       "      <td>0.000000</td>\n",
       "      <td>-99.902157</td>\n",
       "    </tr>\n",
       "    <tr>\n",
       "      <th>25%</th>\n",
       "      <td>4.250000e+05</td>\n",
       "      <td>4.400000e+05</td>\n",
       "      <td>1959.000000</td>\n",
       "      <td>1.000000</td>\n",
       "      <td>2.000000</td>\n",
       "      <td>1.000000</td>\n",
       "      <td>5362.000000</td>\n",
       "      <td>1296.000000</td>\n",
       "      <td>2.000000</td>\n",
       "      <td>2.000000</td>\n",
       "      <td>1.000000</td>\n",
       "      <td>3.000000</td>\n",
       "      <td>0.000000</td>\n",
       "    </tr>\n",
       "    <tr>\n",
       "      <th>50%</th>\n",
       "      <td>6.377250e+05</td>\n",
       "      <td>6.580000e+05</td>\n",
       "      <td>1979.000000</td>\n",
       "      <td>1.000000</td>\n",
       "      <td>2.000000</td>\n",
       "      <td>1.000000</td>\n",
       "      <td>7210.000000</td>\n",
       "      <td>1687.000000</td>\n",
       "      <td>2.000000</td>\n",
       "      <td>2.000000</td>\n",
       "      <td>1.000000</td>\n",
       "      <td>3.000000</td>\n",
       "      <td>2.512814</td>\n",
       "    </tr>\n",
       "    <tr>\n",
       "      <th>75%</th>\n",
       "      <td>9.699600e+05</td>\n",
       "      <td>1.025000e+06</td>\n",
       "      <td>1998.000000</td>\n",
       "      <td>1.000000</td>\n",
       "      <td>2.000000</td>\n",
       "      <td>1.000000</td>\n",
       "      <td>10890.000000</td>\n",
       "      <td>2263.250000</td>\n",
       "      <td>3.000000</td>\n",
       "      <td>2.000000</td>\n",
       "      <td>2.000000</td>\n",
       "      <td>4.000000</td>\n",
       "      <td>7.550380</td>\n",
       "    </tr>\n",
       "    <tr>\n",
       "      <th>max</th>\n",
       "      <td>1.249500e+07</td>\n",
       "      <td>9.971257e+06</td>\n",
       "      <td>2021.000000</td>\n",
       "      <td>11.000000</td>\n",
       "      <td>9.000000</td>\n",
       "      <td>6.000000</td>\n",
       "      <td>99999.000000</td>\n",
       "      <td>5000.000000</td>\n",
       "      <td>12.000000</td>\n",
       "      <td>6500.000000</td>\n",
       "      <td>42.000000</td>\n",
       "      <td>45.000000</td>\n",
       "      <td>87.050360</td>\n",
       "    </tr>\n",
       "  </tbody>\n",
       "</table>\n",
       "</div>"
      ],
      "text/plain": [
       "         list_price  description.sold_price  description.year_built  \\\n",
       "count  5.980000e+04            5.980000e+04            59800.000000   \n",
       "mean   8.334807e+05            8.705144e+05             1976.739114   \n",
       "std    7.080895e+05            7.292404e+05               26.239634   \n",
       "min    1.000000e+04            1.850000e+02             1801.000000   \n",
       "25%    4.250000e+05            4.400000e+05             1959.000000   \n",
       "50%    6.377250e+05            6.580000e+05             1979.000000   \n",
       "75%    9.699600e+05            1.025000e+06             1998.000000   \n",
       "max    1.249500e+07            9.971257e+06             2021.000000   \n",
       "\n",
       "       description.baths_3qtr  description.baths_full  description.baths_half  \\\n",
       "count             3237.000000            58381.000000            15447.000000   \n",
       "mean                 1.203275                2.128124                1.022723   \n",
       "std                  0.519771                0.801908                0.175368   \n",
       "min                  1.000000                1.000000                1.000000   \n",
       "25%                  1.000000                2.000000                1.000000   \n",
       "50%                  1.000000                2.000000                1.000000   \n",
       "75%                  1.000000                2.000000                1.000000   \n",
       "max                 11.000000                9.000000                6.000000   \n",
       "\n",
       "       description.lot_sqft  description.sqft  description.baths  \\\n",
       "count          59800.000000      59800.000000       58752.000000   \n",
       "mean           12293.299114       1863.888512           2.448393   \n",
       "std            15780.403068        791.988068           0.936745   \n",
       "min                1.000000        100.000000           0.000000   \n",
       "25%             5362.000000       1296.000000           2.000000   \n",
       "50%             7210.000000       1687.000000           2.000000   \n",
       "75%            10890.000000       2263.250000           3.000000   \n",
       "max            99999.000000       5000.000000          12.000000   \n",
       "\n",
       "       description.garage  description.stories  description.beds  price_change  \n",
       "count        49374.000000         56002.000000      58939.000000  59800.000000  \n",
       "mean             2.234354             1.475608          3.263221      4.164238  \n",
       "std             29.316237             0.908279          1.038327      8.199701  \n",
       "min              1.000000             1.000000          0.000000    -99.902157  \n",
       "25%              2.000000             1.000000          3.000000      0.000000  \n",
       "50%              2.000000             1.000000          3.000000      2.512814  \n",
       "75%              2.000000             2.000000          4.000000      7.550380  \n",
       "max           6500.000000            42.000000         45.000000     87.050360  "
      ]
     },
     "execution_count": 70,
     "metadata": {},
     "output_type": "execute_result"
    }
   ],
   "source": [
    "df.describe()"
   ]
  },
  {
   "cell_type": "code",
   "execution_count": 71,
   "metadata": {},
   "outputs": [
    {
     "data": {
      "text/html": [
       "<div>\n",
       "<style scoped>\n",
       "    .dataframe tbody tr th:only-of-type {\n",
       "        vertical-align: middle;\n",
       "    }\n",
       "\n",
       "    .dataframe tbody tr th {\n",
       "        vertical-align: top;\n",
       "    }\n",
       "\n",
       "    .dataframe thead th {\n",
       "        text-align: right;\n",
       "    }\n",
       "</style>\n",
       "<table border=\"1\" class=\"dataframe\">\n",
       "  <thead>\n",
       "    <tr style=\"text-align: right;\">\n",
       "      <th></th>\n",
       "      <th>list_price</th>\n",
       "      <th>description.sold_price</th>\n",
       "      <th>description.year_built</th>\n",
       "      <th>description.baths_3qtr</th>\n",
       "      <th>description.baths_full</th>\n",
       "      <th>description.baths_half</th>\n",
       "      <th>description.lot_sqft</th>\n",
       "      <th>description.sqft</th>\n",
       "      <th>description.baths</th>\n",
       "      <th>description.garage</th>\n",
       "      <th>description.stories</th>\n",
       "      <th>description.beds</th>\n",
       "      <th>price_change</th>\n",
       "    </tr>\n",
       "  </thead>\n",
       "  <tbody>\n",
       "    <tr>\n",
       "      <th>list_price</th>\n",
       "      <td>1.000000</td>\n",
       "      <td>0.990394</td>\n",
       "      <td>-0.049880</td>\n",
       "      <td>0.272483</td>\n",
       "      <td>0.413858</td>\n",
       "      <td>0.112100</td>\n",
       "      <td>0.037278</td>\n",
       "      <td>0.527568</td>\n",
       "      <td>0.475348</td>\n",
       "      <td>0.001504</td>\n",
       "      <td>0.171081</td>\n",
       "      <td>0.301693</td>\n",
       "      <td>0.040055</td>\n",
       "    </tr>\n",
       "    <tr>\n",
       "      <th>description.sold_price</th>\n",
       "      <td>0.990394</td>\n",
       "      <td>1.000000</td>\n",
       "      <td>-0.065725</td>\n",
       "      <td>0.269175</td>\n",
       "      <td>0.402973</td>\n",
       "      <td>0.106593</td>\n",
       "      <td>0.026666</td>\n",
       "      <td>0.515163</td>\n",
       "      <td>0.462497</td>\n",
       "      <td>0.000954</td>\n",
       "      <td>0.164792</td>\n",
       "      <td>0.299906</td>\n",
       "      <td>0.151496</td>\n",
       "    </tr>\n",
       "    <tr>\n",
       "      <th>description.year_built</th>\n",
       "      <td>-0.049880</td>\n",
       "      <td>-0.065725</td>\n",
       "      <td>1.000000</td>\n",
       "      <td>0.005851</td>\n",
       "      <td>0.325755</td>\n",
       "      <td>-0.021908</td>\n",
       "      <td>0.077748</td>\n",
       "      <td>0.304608</td>\n",
       "      <td>0.375954</td>\n",
       "      <td>-0.006011</td>\n",
       "      <td>0.178941</td>\n",
       "      <td>0.171470</td>\n",
       "      <td>-0.108963</td>\n",
       "    </tr>\n",
       "    <tr>\n",
       "      <th>description.baths_3qtr</th>\n",
       "      <td>0.272483</td>\n",
       "      <td>0.269175</td>\n",
       "      <td>0.005851</td>\n",
       "      <td>1.000000</td>\n",
       "      <td>0.006274</td>\n",
       "      <td>0.073798</td>\n",
       "      <td>0.023819</td>\n",
       "      <td>0.281029</td>\n",
       "      <td>0.443840</td>\n",
       "      <td>0.013049</td>\n",
       "      <td>0.106085</td>\n",
       "      <td>0.224957</td>\n",
       "      <td>-0.041440</td>\n",
       "    </tr>\n",
       "    <tr>\n",
       "      <th>description.baths_full</th>\n",
       "      <td>0.413858</td>\n",
       "      <td>0.402973</td>\n",
       "      <td>0.325755</td>\n",
       "      <td>0.006274</td>\n",
       "      <td>1.000000</td>\n",
       "      <td>0.098524</td>\n",
       "      <td>0.072843</td>\n",
       "      <td>0.727952</td>\n",
       "      <td>0.824107</td>\n",
       "      <td>0.125985</td>\n",
       "      <td>0.199623</td>\n",
       "      <td>0.610318</td>\n",
       "      <td>-0.046670</td>\n",
       "    </tr>\n",
       "    <tr>\n",
       "      <th>description.baths_half</th>\n",
       "      <td>0.112100</td>\n",
       "      <td>0.106593</td>\n",
       "      <td>-0.021908</td>\n",
       "      <td>0.073798</td>\n",
       "      <td>0.098524</td>\n",
       "      <td>1.000000</td>\n",
       "      <td>0.068076</td>\n",
       "      <td>0.137441</td>\n",
       "      <td>0.302190</td>\n",
       "      <td>0.010255</td>\n",
       "      <td>0.027347</td>\n",
       "      <td>0.116408</td>\n",
       "      <td>-0.049185</td>\n",
       "    </tr>\n",
       "    <tr>\n",
       "      <th>description.lot_sqft</th>\n",
       "      <td>0.037278</td>\n",
       "      <td>0.026666</td>\n",
       "      <td>0.077748</td>\n",
       "      <td>0.023819</td>\n",
       "      <td>0.072843</td>\n",
       "      <td>0.068076</td>\n",
       "      <td>1.000000</td>\n",
       "      <td>0.119637</td>\n",
       "      <td>0.064055</td>\n",
       "      <td>0.002219</td>\n",
       "      <td>0.058266</td>\n",
       "      <td>-0.023515</td>\n",
       "      <td>-0.100745</td>\n",
       "    </tr>\n",
       "    <tr>\n",
       "      <th>description.sqft</th>\n",
       "      <td>0.527568</td>\n",
       "      <td>0.515163</td>\n",
       "      <td>0.304608</td>\n",
       "      <td>0.281029</td>\n",
       "      <td>0.727952</td>\n",
       "      <td>0.137441</td>\n",
       "      <td>0.119637</td>\n",
       "      <td>1.000000</td>\n",
       "      <td>0.781851</td>\n",
       "      <td>0.014582</td>\n",
       "      <td>0.224565</td>\n",
       "      <td>0.663760</td>\n",
       "      <td>-0.062261</td>\n",
       "    </tr>\n",
       "    <tr>\n",
       "      <th>description.baths</th>\n",
       "      <td>0.475348</td>\n",
       "      <td>0.462497</td>\n",
       "      <td>0.375954</td>\n",
       "      <td>0.443840</td>\n",
       "      <td>0.824107</td>\n",
       "      <td>0.302190</td>\n",
       "      <td>0.064055</td>\n",
       "      <td>0.781851</td>\n",
       "      <td>1.000000</td>\n",
       "      <td>0.126972</td>\n",
       "      <td>0.286159</td>\n",
       "      <td>0.591637</td>\n",
       "      <td>-0.051604</td>\n",
       "    </tr>\n",
       "    <tr>\n",
       "      <th>description.garage</th>\n",
       "      <td>0.001504</td>\n",
       "      <td>0.000954</td>\n",
       "      <td>-0.006011</td>\n",
       "      <td>0.013049</td>\n",
       "      <td>0.125985</td>\n",
       "      <td>0.010255</td>\n",
       "      <td>0.002219</td>\n",
       "      <td>0.014582</td>\n",
       "      <td>0.126972</td>\n",
       "      <td>1.000000</td>\n",
       "      <td>0.046823</td>\n",
       "      <td>0.118206</td>\n",
       "      <td>-0.006571</td>\n",
       "    </tr>\n",
       "    <tr>\n",
       "      <th>description.stories</th>\n",
       "      <td>0.171081</td>\n",
       "      <td>0.164792</td>\n",
       "      <td>0.178941</td>\n",
       "      <td>0.106085</td>\n",
       "      <td>0.199623</td>\n",
       "      <td>0.027347</td>\n",
       "      <td>0.058266</td>\n",
       "      <td>0.224565</td>\n",
       "      <td>0.286159</td>\n",
       "      <td>0.046823</td>\n",
       "      <td>1.000000</td>\n",
       "      <td>0.099530</td>\n",
       "      <td>-0.027642</td>\n",
       "    </tr>\n",
       "    <tr>\n",
       "      <th>description.beds</th>\n",
       "      <td>0.301693</td>\n",
       "      <td>0.299906</td>\n",
       "      <td>0.171470</td>\n",
       "      <td>0.224957</td>\n",
       "      <td>0.610318</td>\n",
       "      <td>0.116408</td>\n",
       "      <td>-0.023515</td>\n",
       "      <td>0.663760</td>\n",
       "      <td>0.591637</td>\n",
       "      <td>0.118206</td>\n",
       "      <td>0.099530</td>\n",
       "      <td>1.000000</td>\n",
       "      <td>0.006888</td>\n",
       "    </tr>\n",
       "    <tr>\n",
       "      <th>price_change</th>\n",
       "      <td>0.040055</td>\n",
       "      <td>0.151496</td>\n",
       "      <td>-0.108963</td>\n",
       "      <td>-0.041440</td>\n",
       "      <td>-0.046670</td>\n",
       "      <td>-0.049185</td>\n",
       "      <td>-0.100745</td>\n",
       "      <td>-0.062261</td>\n",
       "      <td>-0.051604</td>\n",
       "      <td>-0.006571</td>\n",
       "      <td>-0.027642</td>\n",
       "      <td>0.006888</td>\n",
       "      <td>1.000000</td>\n",
       "    </tr>\n",
       "  </tbody>\n",
       "</table>\n",
       "</div>"
      ],
      "text/plain": [
       "                        list_price  description.sold_price  \\\n",
       "list_price                1.000000                0.990394   \n",
       "description.sold_price    0.990394                1.000000   \n",
       "description.year_built   -0.049880               -0.065725   \n",
       "description.baths_3qtr    0.272483                0.269175   \n",
       "description.baths_full    0.413858                0.402973   \n",
       "description.baths_half    0.112100                0.106593   \n",
       "description.lot_sqft      0.037278                0.026666   \n",
       "description.sqft          0.527568                0.515163   \n",
       "description.baths         0.475348                0.462497   \n",
       "description.garage        0.001504                0.000954   \n",
       "description.stories       0.171081                0.164792   \n",
       "description.beds          0.301693                0.299906   \n",
       "price_change              0.040055                0.151496   \n",
       "\n",
       "                        description.year_built  description.baths_3qtr  \\\n",
       "list_price                           -0.049880                0.272483   \n",
       "description.sold_price               -0.065725                0.269175   \n",
       "description.year_built                1.000000                0.005851   \n",
       "description.baths_3qtr                0.005851                1.000000   \n",
       "description.baths_full                0.325755                0.006274   \n",
       "description.baths_half               -0.021908                0.073798   \n",
       "description.lot_sqft                  0.077748                0.023819   \n",
       "description.sqft                      0.304608                0.281029   \n",
       "description.baths                     0.375954                0.443840   \n",
       "description.garage                   -0.006011                0.013049   \n",
       "description.stories                   0.178941                0.106085   \n",
       "description.beds                      0.171470                0.224957   \n",
       "price_change                         -0.108963               -0.041440   \n",
       "\n",
       "                        description.baths_full  description.baths_half  \\\n",
       "list_price                            0.413858                0.112100   \n",
       "description.sold_price                0.402973                0.106593   \n",
       "description.year_built                0.325755               -0.021908   \n",
       "description.baths_3qtr                0.006274                0.073798   \n",
       "description.baths_full                1.000000                0.098524   \n",
       "description.baths_half                0.098524                1.000000   \n",
       "description.lot_sqft                  0.072843                0.068076   \n",
       "description.sqft                      0.727952                0.137441   \n",
       "description.baths                     0.824107                0.302190   \n",
       "description.garage                    0.125985                0.010255   \n",
       "description.stories                   0.199623                0.027347   \n",
       "description.beds                      0.610318                0.116408   \n",
       "price_change                         -0.046670               -0.049185   \n",
       "\n",
       "                        description.lot_sqft  description.sqft  \\\n",
       "list_price                          0.037278          0.527568   \n",
       "description.sold_price              0.026666          0.515163   \n",
       "description.year_built              0.077748          0.304608   \n",
       "description.baths_3qtr              0.023819          0.281029   \n",
       "description.baths_full              0.072843          0.727952   \n",
       "description.baths_half              0.068076          0.137441   \n",
       "description.lot_sqft                1.000000          0.119637   \n",
       "description.sqft                    0.119637          1.000000   \n",
       "description.baths                   0.064055          0.781851   \n",
       "description.garage                  0.002219          0.014582   \n",
       "description.stories                 0.058266          0.224565   \n",
       "description.beds                   -0.023515          0.663760   \n",
       "price_change                       -0.100745         -0.062261   \n",
       "\n",
       "                        description.baths  description.garage  \\\n",
       "list_price                       0.475348            0.001504   \n",
       "description.sold_price           0.462497            0.000954   \n",
       "description.year_built           0.375954           -0.006011   \n",
       "description.baths_3qtr           0.443840            0.013049   \n",
       "description.baths_full           0.824107            0.125985   \n",
       "description.baths_half           0.302190            0.010255   \n",
       "description.lot_sqft             0.064055            0.002219   \n",
       "description.sqft                 0.781851            0.014582   \n",
       "description.baths                1.000000            0.126972   \n",
       "description.garage               0.126972            1.000000   \n",
       "description.stories              0.286159            0.046823   \n",
       "description.beds                 0.591637            0.118206   \n",
       "price_change                    -0.051604           -0.006571   \n",
       "\n",
       "                        description.stories  description.beds  price_change  \n",
       "list_price                         0.171081          0.301693      0.040055  \n",
       "description.sold_price             0.164792          0.299906      0.151496  \n",
       "description.year_built             0.178941          0.171470     -0.108963  \n",
       "description.baths_3qtr             0.106085          0.224957     -0.041440  \n",
       "description.baths_full             0.199623          0.610318     -0.046670  \n",
       "description.baths_half             0.027347          0.116408     -0.049185  \n",
       "description.lot_sqft               0.058266         -0.023515     -0.100745  \n",
       "description.sqft                   0.224565          0.663760     -0.062261  \n",
       "description.baths                  0.286159          0.591637     -0.051604  \n",
       "description.garage                 0.046823          0.118206     -0.006571  \n",
       "description.stories                1.000000          0.099530     -0.027642  \n",
       "description.beds                   0.099530          1.000000      0.006888  \n",
       "price_change                      -0.027642          0.006888      1.000000  "
      ]
     },
     "execution_count": 71,
     "metadata": {},
     "output_type": "execute_result"
    }
   ],
   "source": [
    "df_corr = df.corr()\n",
    "df_corr"
   ]
  },
  {
   "cell_type": "code",
   "execution_count": 72,
   "metadata": {
    "scrolled": true
   },
   "outputs": [
    {
     "name": "stdout",
     "output_type": "stream",
     "text": [
      "<class 'pandas.core.frame.DataFrame'>\n",
      "Int64Index: 59800 entries, 0 to 243197\n",
      "Data columns (total 22 columns):\n",
      " #   Column                        Non-Null Count  Dtype  \n",
      "---  ------                        --------------  -----  \n",
      " 0   property_id                   59800 non-null  object \n",
      " 1   listing_id                    59800 non-null  object \n",
      " 2   status                        59800 non-null  object \n",
      " 3   list_date                     59799 non-null  object \n",
      " 4   list_price                    59800 non-null  float64\n",
      " 5   description.sold_price        59800 non-null  int64  \n",
      " 6   description.year_built        59800 non-null  int64  \n",
      " 7   description.baths_3qtr        3237 non-null   float64\n",
      " 8   description.baths_full        58381 non-null  float64\n",
      " 9   description.baths_half        15447 non-null  float64\n",
      " 10  description.lot_sqft          59800 non-null  float64\n",
      " 11  description.sqft              59800 non-null  float64\n",
      " 12  description.baths             58752 non-null  float64\n",
      " 13  description.type              59800 non-null  object \n",
      " 14  description.garage            49374 non-null  float64\n",
      " 15  description.stories           56002 non-null  float64\n",
      " 16  description.beds              58939 non-null  float64\n",
      " 17  location.address.postal_code  59800 non-null  object \n",
      " 18  location.address.city         59800 non-null  object \n",
      " 19  location.county.fips_code     59794 non-null  object \n",
      " 20  location.county.name          59799 non-null  object \n",
      " 21  price_change                  59800 non-null  float64\n",
      "dtypes: float64(11), int64(2), object(9)\n",
      "memory usage: 10.5+ MB\n"
     ]
    }
   ],
   "source": [
    "df.info()"
   ]
  },
  {
   "cell_type": "code",
   "execution_count": 73,
   "metadata": {},
   "outputs": [],
   "source": [
    "features_base = ['description.year_built','description.baths_3qtr','description.baths_full','description.baths_half',\n",
    "                'description.lot_sqft','description.sqft','description.baths','description.garage',\n",
    "                'description.stories','description.beds']"
   ]
  },
  {
   "cell_type": "code",
   "execution_count": 74,
   "metadata": {},
   "outputs": [],
   "source": [
    "X = df[features_base]\n",
    "y = df.iloc[:, 5]"
   ]
  },
  {
   "cell_type": "code",
   "execution_count": 75,
   "metadata": {},
   "outputs": [
    {
     "name": "stdout",
     "output_type": "stream",
     "text": [
      "<class 'pandas.core.frame.DataFrame'>\n",
      "Int64Index: 59800 entries, 0 to 243197\n",
      "Data columns (total 10 columns):\n",
      " #   Column                  Non-Null Count  Dtype  \n",
      "---  ------                  --------------  -----  \n",
      " 0   description.year_built  59800 non-null  int64  \n",
      " 1   description.baths_3qtr  3237 non-null   float64\n",
      " 2   description.baths_full  58381 non-null  float64\n",
      " 3   description.baths_half  15447 non-null  float64\n",
      " 4   description.lot_sqft    59800 non-null  float64\n",
      " 5   description.sqft        59800 non-null  float64\n",
      " 6   description.baths       58752 non-null  float64\n",
      " 7   description.garage      49374 non-null  float64\n",
      " 8   description.stories     56002 non-null  float64\n",
      " 9   description.beds        58939 non-null  float64\n",
      "dtypes: float64(9), int64(1)\n",
      "memory usage: 5.0 MB\n"
     ]
    }
   ],
   "source": [
    "X.info()"
   ]
  },
  {
   "cell_type": "code",
   "execution_count": 76,
   "metadata": {},
   "outputs": [],
   "source": [
    "X = X.fillna(0)"
   ]
  },
  {
   "cell_type": "code",
   "execution_count": 77,
   "metadata": {},
   "outputs": [],
   "source": [
    "#test/train split\n",
    "X_train_val, X_test, y_train_val, y_test = train_test_split(X, y, test_size=0.2, random_state=10)\n",
    "X_train, X_val, y_train, y_val = train_test_split(X_train_val, y_train_val, test_size = 0.2, random_state = 40)"
   ]
  },
  {
   "cell_type": "code",
   "execution_count": 78,
   "metadata": {},
   "outputs": [],
   "source": [
    "X_train = X_train[features_base]\n",
    "X_test = X_test[features_base]\n",
    "X_val = X_val[features_base]"
   ]
  },
  {
   "cell_type": "code",
   "execution_count": 79,
   "metadata": {},
   "outputs": [],
   "source": [
    "#fit base model\n",
    "lr_model_base = LinearRegression()\n",
    "lr_model_base.fit(X_train, y_train)\n",
    "\n",
    "#Scores\n",
    "train_score = lr_model_base.score(X_train, y_train)\n",
    "test_score = lr_model_base.score(X_test, y_test)\n",
    "\n",
    "#Adj R2\n",
    "adjusted_r2 = 1 - (1-lr_model_base.score(X_test, y_test))*(len(y_test)-1)/(len(y_test)-X_test.shape[1]-1)"
   ]
  },
  {
   "cell_type": "code",
   "execution_count": 80,
   "metadata": {},
   "outputs": [
    {
     "name": "stdout",
     "output_type": "stream",
     "text": [
      "\n",
      "Train R^2 score was: 0.360141464349214\n",
      "\n",
      "Validation R^2 score was: 0.3521534391234119\n",
      "\n",
      "Validation adjusted R^2 was: 0.3516112627397173\n",
      "\n",
      "Feature coefficient results: \n",
      "\n",
      "description.year_built : -8416.02\n",
      "description.baths_3qtr : 10185.02\n",
      "description.baths_full : 20384.67\n",
      "description.baths_half : 37286.08\n",
      "description.lot_sqft : -1.24\n",
      "description.sqft : 441.16\n",
      "description.baths : 180253.35\n",
      "description.garage : -147.38\n",
      "description.stories : 20264.28\n",
      "description.beds : -68497.41\n"
     ]
    }
   ],
   "source": [
    "#print outputs\n",
    "print('\\nTrain R^2 score was:', train_score)\n",
    "print('\\nValidation R^2 score was:', test_score)\n",
    "print('\\nValidation adjusted R^2 was:',adjusted_r2)\n",
    "print('\\nFeature coefficient results: \\n')\n",
    "for feature, coef in zip(X_train.columns, lr_model_base.coef_):\n",
    "    print(feature, ':', f'{coef:.2f}')"
   ]
  },
  {
   "cell_type": "markdown",
   "metadata": {},
   "source": [
    "### Interation1: add property types"
   ]
  },
  {
   "cell_type": "code",
   "execution_count": 81,
   "metadata": {},
   "outputs": [],
   "source": [
    "features_base = ['description.year_built','description.baths_3qtr','description.baths_full','description.baths_half',\n",
    "                'description.lot_sqft','description.sqft','description.baths','description.garage',\n",
    "                'description.stories','description.beds', 'description.type']"
   ]
  },
  {
   "cell_type": "code",
   "execution_count": 82,
   "metadata": {},
   "outputs": [],
   "source": [
    "X = df[features_base]\n",
    "y = df.iloc[:, 5]"
   ]
  },
  {
   "cell_type": "code",
   "execution_count": 83,
   "metadata": {},
   "outputs": [
    {
     "name": "stdout",
     "output_type": "stream",
     "text": [
      "<class 'pandas.core.frame.DataFrame'>\n",
      "Int64Index: 59800 entries, 0 to 243197\n",
      "Data columns (total 11 columns):\n",
      " #   Column                  Non-Null Count  Dtype  \n",
      "---  ------                  --------------  -----  \n",
      " 0   description.year_built  59800 non-null  int64  \n",
      " 1   description.baths_3qtr  3237 non-null   float64\n",
      " 2   description.baths_full  58381 non-null  float64\n",
      " 3   description.baths_half  15447 non-null  float64\n",
      " 4   description.lot_sqft    59800 non-null  float64\n",
      " 5   description.sqft        59800 non-null  float64\n",
      " 6   description.baths       58752 non-null  float64\n",
      " 7   description.garage      49374 non-null  float64\n",
      " 8   description.stories     56002 non-null  float64\n",
      " 9   description.beds        58939 non-null  float64\n",
      " 10  description.type        59800 non-null  object \n",
      "dtypes: float64(9), int64(1), object(1)\n",
      "memory usage: 5.5+ MB\n"
     ]
    }
   ],
   "source": [
    "X.info()"
   ]
  },
  {
   "cell_type": "code",
   "execution_count": 84,
   "metadata": {},
   "outputs": [],
   "source": [
    "X = X.fillna(0)"
   ]
  },
  {
   "cell_type": "code",
   "execution_count": 85,
   "metadata": {},
   "outputs": [],
   "source": [
    "#test/train split\n",
    "X_train_val, X_test, y_train_val, y_test = train_test_split(X, y, test_size=0.2, random_state=10)\n",
    "X_train, X_val, y_train, y_val = train_test_split(X_train_val, y_train_val, test_size = 0.2, random_state = 40)"
   ]
  },
  {
   "cell_type": "code",
   "execution_count": 86,
   "metadata": {},
   "outputs": [],
   "source": [
    "#create dummies\n",
    "type_dummies = pd.get_dummies(X_train['description.type'])\n",
    "X_train = X_train.join(type_dummies)\n",
    "X_train.drop(columns = ['description.type', 'mobile'], inplace = True)"
   ]
  },
  {
   "cell_type": "code",
   "execution_count": 87,
   "metadata": {},
   "outputs": [],
   "source": [
    "type_dummies = pd.get_dummies(X_test['description.type'])\n",
    "X_test = X_test.join(type_dummies)\n",
    "X_test.drop(columns = ['description.type', 'mobile'], inplace = True)"
   ]
  },
  {
   "cell_type": "code",
   "execution_count": 88,
   "metadata": {},
   "outputs": [],
   "source": [
    "#fit model\n",
    "lr_model_1 = LinearRegression()\n",
    "lr_model_1.fit(X_train, y_train)\n",
    "\n",
    "#Scores\n",
    "train_score = lr_model_1.score(X_train, y_train)\n",
    "test_score = lr_model_1.score(X_test, y_test)\n",
    "\n",
    "#Adj R2\n",
    "adjusted_r2 = 1 - (1-lr_model_1.score(X_test, y_test))*(len(y_test)-1)/(len(y_test)-X_test.shape[1]-1)"
   ]
  },
  {
   "cell_type": "code",
   "execution_count": 89,
   "metadata": {},
   "outputs": [
    {
     "name": "stdout",
     "output_type": "stream",
     "text": [
      "\n",
      "Train R^2 score was: 0.3683105057284676\n",
      "\n",
      "Validation R^2 score was: 0.3610259005441352\n",
      "\n",
      "Validation adjusted R^2 was: 0.360116290789425\n",
      "\n",
      "Feature coefficient results: \n",
      "\n",
      "description.year_built : -8846.26\n",
      "description.baths_3qtr : 9950.53\n",
      "description.baths_full : 19800.47\n",
      "description.baths_half : 32654.73\n",
      "description.lot_sqft : -1.56\n",
      "description.sqft : 486.22\n",
      "description.baths : 150658.49\n",
      "description.garage : -130.69\n",
      "description.stories : 8506.15\n",
      "description.beds : -57522.34\n",
      "condo_townhome_rowhome_coop : 169112.33\n",
      "condos : 418624.85\n",
      "coop : 78960.90\n",
      "duplex_triplex : 11495.00\n",
      "multi_family : 21060.32\n",
      "single_family : 228142.72\n",
      "townhomes : 391713.60\n"
     ]
    }
   ],
   "source": [
    "#print outputs\n",
    "print('\\nTrain R^2 score was:', train_score)\n",
    "print('\\nValidation R^2 score was:', test_score)\n",
    "print('\\nValidation adjusted R^2 was:',adjusted_r2)\n",
    "print('\\nFeature coefficient results: \\n')\n",
    "for feature, coef in zip(X_train.columns, lr_model_1.coef_):\n",
    "    print(feature, ':', f'{coef:.2f}')"
   ]
  },
  {
   "cell_type": "markdown",
   "metadata": {},
   "source": [
    "### Interation2: add cities"
   ]
  },
  {
   "cell_type": "code",
   "execution_count": 90,
   "metadata": {},
   "outputs": [],
   "source": [
    "city_ct = df.groupby(\"location.address.city\")[\"listing_id\"].count().reset_index()"
   ]
  },
  {
   "cell_type": "code",
   "execution_count": 91,
   "metadata": {},
   "outputs": [
    {
     "data": {
      "text/html": [
       "<div>\n",
       "<style scoped>\n",
       "    .dataframe tbody tr th:only-of-type {\n",
       "        vertical-align: middle;\n",
       "    }\n",
       "\n",
       "    .dataframe tbody tr th {\n",
       "        vertical-align: top;\n",
       "    }\n",
       "\n",
       "    .dataframe thead th {\n",
       "        text-align: right;\n",
       "    }\n",
       "</style>\n",
       "<table border=\"1\" class=\"dataframe\">\n",
       "  <thead>\n",
       "    <tr style=\"text-align: right;\">\n",
       "      <th></th>\n",
       "      <th>location.address.city</th>\n",
       "      <th>listing_id</th>\n",
       "    </tr>\n",
       "  </thead>\n",
       "  <tbody>\n",
       "    <tr>\n",
       "      <th>525</th>\n",
       "      <td>Los Angeles</td>\n",
       "      <td>1827</td>\n",
       "    </tr>\n",
       "    <tr>\n",
       "      <th>825</th>\n",
       "      <td>San Jose</td>\n",
       "      <td>1291</td>\n",
       "    </tr>\n",
       "    <tr>\n",
       "      <th>805</th>\n",
       "      <td>Sacramento</td>\n",
       "      <td>1242</td>\n",
       "    </tr>\n",
       "    <tr>\n",
       "      <th>818</th>\n",
       "      <td>San Diego</td>\n",
       "      <td>1182</td>\n",
       "    </tr>\n",
       "    <tr>\n",
       "      <th>918</th>\n",
       "      <td>Stockton</td>\n",
       "      <td>601</td>\n",
       "    </tr>\n",
       "    <tr>\n",
       "      <th>...</th>\n",
       "      <td>...</td>\n",
       "      <td>...</td>\n",
       "    </tr>\n",
       "    <tr>\n",
       "      <th>856</th>\n",
       "      <td>Santa Rosa Valley</td>\n",
       "      <td>1</td>\n",
       "    </tr>\n",
       "    <tr>\n",
       "      <th>857</th>\n",
       "      <td>Santa Ynez</td>\n",
       "      <td>1</td>\n",
       "    </tr>\n",
       "    <tr>\n",
       "      <th>858</th>\n",
       "      <td>Santa Ysabel</td>\n",
       "      <td>1</td>\n",
       "    </tr>\n",
       "    <tr>\n",
       "      <th>229</th>\n",
       "      <td>Davenport</td>\n",
       "      <td>1</td>\n",
       "    </tr>\n",
       "    <tr>\n",
       "      <th>1062</th>\n",
       "      <td>Zamora</td>\n",
       "      <td>1</td>\n",
       "    </tr>\n",
       "  </tbody>\n",
       "</table>\n",
       "<p>1063 rows × 2 columns</p>\n",
       "</div>"
      ],
      "text/plain": [
       "     location.address.city  listing_id\n",
       "525            Los Angeles        1827\n",
       "825               San Jose        1291\n",
       "805             Sacramento        1242\n",
       "818              San Diego        1182\n",
       "918               Stockton         601\n",
       "...                    ...         ...\n",
       "856      Santa Rosa Valley           1\n",
       "857             Santa Ynez           1\n",
       "858           Santa Ysabel           1\n",
       "229              Davenport           1\n",
       "1062                Zamora           1\n",
       "\n",
       "[1063 rows x 2 columns]"
      ]
     },
     "execution_count": 91,
     "metadata": {},
     "output_type": "execute_result"
    }
   ],
   "source": [
    "city_ct.sort_values(by = 'listing_id', ascending= False)"
   ]
  },
  {
   "cell_type": "code",
   "execution_count": 92,
   "metadata": {},
   "outputs": [],
   "source": [
    "city_to_keep = city_ct[city_ct['listing_id']>= 50]"
   ]
  },
  {
   "cell_type": "code",
   "execution_count": 93,
   "metadata": {},
   "outputs": [
    {
     "data": {
      "text/html": [
       "<div>\n",
       "<style scoped>\n",
       "    .dataframe tbody tr th:only-of-type {\n",
       "        vertical-align: middle;\n",
       "    }\n",
       "\n",
       "    .dataframe tbody tr th {\n",
       "        vertical-align: top;\n",
       "    }\n",
       "\n",
       "    .dataframe thead th {\n",
       "        text-align: right;\n",
       "    }\n",
       "</style>\n",
       "<table border=\"1\" class=\"dataframe\">\n",
       "  <thead>\n",
       "    <tr style=\"text-align: right;\">\n",
       "      <th></th>\n",
       "      <th>location.address.city</th>\n",
       "      <th>listing_id</th>\n",
       "    </tr>\n",
       "  </thead>\n",
       "  <tbody>\n",
       "    <tr>\n",
       "      <th>241</th>\n",
       "      <td>Diamond Bar</td>\n",
       "      <td>50</td>\n",
       "    </tr>\n",
       "    <tr>\n",
       "      <th>973</th>\n",
       "      <td>Tustin</td>\n",
       "      <td>50</td>\n",
       "    </tr>\n",
       "    <tr>\n",
       "      <th>790</th>\n",
       "      <td>Rodeo</td>\n",
       "      <td>50</td>\n",
       "    </tr>\n",
       "    <tr>\n",
       "      <th>141</th>\n",
       "      <td>Carmel Valley</td>\n",
       "      <td>50</td>\n",
       "    </tr>\n",
       "    <tr>\n",
       "      <th>714</th>\n",
       "      <td>Pinon Hills</td>\n",
       "      <td>51</td>\n",
       "    </tr>\n",
       "    <tr>\n",
       "      <th>...</th>\n",
       "      <td>...</td>\n",
       "      <td>...</td>\n",
       "    </tr>\n",
       "    <tr>\n",
       "      <th>918</th>\n",
       "      <td>Stockton</td>\n",
       "      <td>601</td>\n",
       "    </tr>\n",
       "    <tr>\n",
       "      <th>818</th>\n",
       "      <td>San Diego</td>\n",
       "      <td>1182</td>\n",
       "    </tr>\n",
       "    <tr>\n",
       "      <th>805</th>\n",
       "      <td>Sacramento</td>\n",
       "      <td>1242</td>\n",
       "    </tr>\n",
       "    <tr>\n",
       "      <th>825</th>\n",
       "      <td>San Jose</td>\n",
       "      <td>1291</td>\n",
       "    </tr>\n",
       "    <tr>\n",
       "      <th>525</th>\n",
       "      <td>Los Angeles</td>\n",
       "      <td>1827</td>\n",
       "    </tr>\n",
       "  </tbody>\n",
       "</table>\n",
       "<p>341 rows × 2 columns</p>\n",
       "</div>"
      ],
      "text/plain": [
       "    location.address.city  listing_id\n",
       "241           Diamond Bar          50\n",
       "973                Tustin          50\n",
       "790                 Rodeo          50\n",
       "141         Carmel Valley          50\n",
       "714           Pinon Hills          51\n",
       "..                    ...         ...\n",
       "918              Stockton         601\n",
       "818             San Diego        1182\n",
       "805            Sacramento        1242\n",
       "825              San Jose        1291\n",
       "525           Los Angeles        1827\n",
       "\n",
       "[341 rows x 2 columns]"
      ]
     },
     "execution_count": 93,
     "metadata": {},
     "output_type": "execute_result"
    }
   ],
   "source": [
    "city_to_keep.sort_values(by = 'listing_id', ascending = True)"
   ]
  },
  {
   "cell_type": "code",
   "execution_count": 94,
   "metadata": {},
   "outputs": [],
   "source": [
    "city_to_keep = city_to_keep['location.address.city'].tolist()"
   ]
  },
  {
   "cell_type": "code",
   "execution_count": 95,
   "metadata": {},
   "outputs": [
    {
     "data": {
      "text/plain": [
       "341"
      ]
     },
     "execution_count": 95,
     "metadata": {},
     "output_type": "execute_result"
    }
   ],
   "source": [
    "len(city_to_keep )"
   ]
  },
  {
   "cell_type": "code",
   "execution_count": 96,
   "metadata": {},
   "outputs": [],
   "source": [
    "df2 = df[df['location.address.city'].isin(city_to_keep)]"
   ]
  },
  {
   "cell_type": "code",
   "execution_count": 97,
   "metadata": {},
   "outputs": [
    {
     "name": "stdout",
     "output_type": "stream",
     "text": [
      "<class 'pandas.core.frame.DataFrame'>\n",
      "Int64Index: 49661 entries, 0 to 243197\n",
      "Data columns (total 22 columns):\n",
      " #   Column                        Non-Null Count  Dtype  \n",
      "---  ------                        --------------  -----  \n",
      " 0   property_id                   49661 non-null  object \n",
      " 1   listing_id                    49661 non-null  object \n",
      " 2   status                        49661 non-null  object \n",
      " 3   list_date                     49660 non-null  object \n",
      " 4   list_price                    49661 non-null  float64\n",
      " 5   description.sold_price        49661 non-null  int64  \n",
      " 6   description.year_built        49661 non-null  int64  \n",
      " 7   description.baths_3qtr        2610 non-null   float64\n",
      " 8   description.baths_full        48528 non-null  float64\n",
      " 9   description.baths_half        13122 non-null  float64\n",
      " 10  description.lot_sqft          49661 non-null  float64\n",
      " 11  description.sqft              49661 non-null  float64\n",
      " 12  description.baths             48832 non-null  float64\n",
      " 13  description.type              49661 non-null  object \n",
      " 14  description.garage            41536 non-null  float64\n",
      " 15  description.stories           46402 non-null  float64\n",
      " 16  description.beds              48995 non-null  float64\n",
      " 17  location.address.postal_code  49661 non-null  object \n",
      " 18  location.address.city         49661 non-null  object \n",
      " 19  location.county.fips_code     49661 non-null  object \n",
      " 20  location.county.name          49661 non-null  object \n",
      " 21  price_change                  49661 non-null  float64\n",
      "dtypes: float64(11), int64(2), object(9)\n",
      "memory usage: 8.7+ MB\n"
     ]
    }
   ],
   "source": [
    "df2.info()"
   ]
  },
  {
   "cell_type": "code",
   "execution_count": 98,
   "metadata": {},
   "outputs": [],
   "source": [
    "features_base = ['description.year_built','description.baths_3qtr','description.baths_full','description.baths_half',\n",
    "                'description.lot_sqft','description.sqft','description.baths','description.garage',\n",
    "                'description.stories','description.beds', 'description.type','location.address.city']"
   ]
  },
  {
   "cell_type": "code",
   "execution_count": 99,
   "metadata": {},
   "outputs": [],
   "source": [
    "X = df2[features_base]\n",
    "y = df2.iloc[:, 5]"
   ]
  },
  {
   "cell_type": "code",
   "execution_count": 100,
   "metadata": {},
   "outputs": [],
   "source": [
    "X = X.fillna(0)"
   ]
  },
  {
   "cell_type": "code",
   "execution_count": 101,
   "metadata": {},
   "outputs": [
    {
     "name": "stdout",
     "output_type": "stream",
     "text": [
      "<class 'pandas.core.frame.DataFrame'>\n",
      "Int64Index: 49661 entries, 0 to 243197\n",
      "Data columns (total 12 columns):\n",
      " #   Column                  Non-Null Count  Dtype  \n",
      "---  ------                  --------------  -----  \n",
      " 0   description.year_built  49661 non-null  int64  \n",
      " 1   description.baths_3qtr  49661 non-null  float64\n",
      " 2   description.baths_full  49661 non-null  float64\n",
      " 3   description.baths_half  49661 non-null  float64\n",
      " 4   description.lot_sqft    49661 non-null  float64\n",
      " 5   description.sqft        49661 non-null  float64\n",
      " 6   description.baths       49661 non-null  float64\n",
      " 7   description.garage      49661 non-null  float64\n",
      " 8   description.stories     49661 non-null  float64\n",
      " 9   description.beds        49661 non-null  float64\n",
      " 10  description.type        49661 non-null  object \n",
      " 11  location.address.city   49661 non-null  object \n",
      "dtypes: float64(9), int64(1), object(2)\n",
      "memory usage: 4.9+ MB\n"
     ]
    }
   ],
   "source": [
    "X.info()"
   ]
  },
  {
   "cell_type": "code",
   "execution_count": 127,
   "metadata": {},
   "outputs": [],
   "source": [
    "#test/train split\n",
    "X_train_val, X_test, y_train_val, y_test = train_test_split(X, y, test_size=0.2, random_state=10, stratify = X['location.address.city'])\n",
    "X_train, X_val, y_train, y_val = train_test_split(X_train_val, y_train_val, test_size = 0.2, random_state = 40, stratify = X_train_val['location.address.city'])\n"
   ]
  },
  {
   "cell_type": "code",
   "execution_count": 112,
   "metadata": {},
   "outputs": [],
   "source": [
    "city_dummies = pd.get_dummies(X_train['location.address.city'])\n",
    "X_train = X_train.join(city_dummies)\n",
    "X_train.drop(columns = ['location.address.city', 'Yucca Valley'], inplace = True)"
   ]
  },
  {
   "cell_type": "code",
   "execution_count": 113,
   "metadata": {},
   "outputs": [
    {
     "data": {
      "text/html": [
       "<div>\n",
       "<style scoped>\n",
       "    .dataframe tbody tr th:only-of-type {\n",
       "        vertical-align: middle;\n",
       "    }\n",
       "\n",
       "    .dataframe tbody tr th {\n",
       "        vertical-align: top;\n",
       "    }\n",
       "\n",
       "    .dataframe thead th {\n",
       "        text-align: right;\n",
       "    }\n",
       "</style>\n",
       "<table border=\"1\" class=\"dataframe\">\n",
       "  <thead>\n",
       "    <tr style=\"text-align: right;\">\n",
       "      <th></th>\n",
       "      <th>Agoura Hills</th>\n",
       "      <th>Alameda</th>\n",
       "      <th>Alamo</th>\n",
       "      <th>Alpine</th>\n",
       "      <th>Anaheim</th>\n",
       "      <th>Anaheim Hills</th>\n",
       "      <th>Antelope</th>\n",
       "      <th>Antioch</th>\n",
       "      <th>Apple Valley</th>\n",
       "      <th>Aptos</th>\n",
       "      <th>...</th>\n",
       "      <th>Wildomar</th>\n",
       "      <th>Winchester</th>\n",
       "      <th>Windsor</th>\n",
       "      <th>Woodland</th>\n",
       "      <th>Woodland Hills</th>\n",
       "      <th>Wrightwood</th>\n",
       "      <th>Yorba Linda</th>\n",
       "      <th>Yuba City</th>\n",
       "      <th>Yucaipa</th>\n",
       "      <th>Yucca Valley</th>\n",
       "    </tr>\n",
       "  </thead>\n",
       "  <tbody>\n",
       "    <tr>\n",
       "      <th>690</th>\n",
       "      <td>0</td>\n",
       "      <td>0</td>\n",
       "      <td>0</td>\n",
       "      <td>0</td>\n",
       "      <td>0</td>\n",
       "      <td>0</td>\n",
       "      <td>0</td>\n",
       "      <td>0</td>\n",
       "      <td>0</td>\n",
       "      <td>0</td>\n",
       "      <td>...</td>\n",
       "      <td>0</td>\n",
       "      <td>0</td>\n",
       "      <td>0</td>\n",
       "      <td>0</td>\n",
       "      <td>0</td>\n",
       "      <td>0</td>\n",
       "      <td>0</td>\n",
       "      <td>0</td>\n",
       "      <td>0</td>\n",
       "      <td>0</td>\n",
       "    </tr>\n",
       "    <tr>\n",
       "      <th>182925</th>\n",
       "      <td>0</td>\n",
       "      <td>0</td>\n",
       "      <td>0</td>\n",
       "      <td>0</td>\n",
       "      <td>0</td>\n",
       "      <td>0</td>\n",
       "      <td>0</td>\n",
       "      <td>0</td>\n",
       "      <td>0</td>\n",
       "      <td>0</td>\n",
       "      <td>...</td>\n",
       "      <td>0</td>\n",
       "      <td>0</td>\n",
       "      <td>0</td>\n",
       "      <td>0</td>\n",
       "      <td>0</td>\n",
       "      <td>0</td>\n",
       "      <td>0</td>\n",
       "      <td>0</td>\n",
       "      <td>0</td>\n",
       "      <td>0</td>\n",
       "    </tr>\n",
       "    <tr>\n",
       "      <th>136554</th>\n",
       "      <td>0</td>\n",
       "      <td>0</td>\n",
       "      <td>0</td>\n",
       "      <td>0</td>\n",
       "      <td>0</td>\n",
       "      <td>0</td>\n",
       "      <td>0</td>\n",
       "      <td>0</td>\n",
       "      <td>0</td>\n",
       "      <td>0</td>\n",
       "      <td>...</td>\n",
       "      <td>0</td>\n",
       "      <td>0</td>\n",
       "      <td>0</td>\n",
       "      <td>0</td>\n",
       "      <td>0</td>\n",
       "      <td>0</td>\n",
       "      <td>0</td>\n",
       "      <td>0</td>\n",
       "      <td>0</td>\n",
       "      <td>0</td>\n",
       "    </tr>\n",
       "    <tr>\n",
       "      <th>6627</th>\n",
       "      <td>0</td>\n",
       "      <td>0</td>\n",
       "      <td>0</td>\n",
       "      <td>0</td>\n",
       "      <td>0</td>\n",
       "      <td>0</td>\n",
       "      <td>0</td>\n",
       "      <td>0</td>\n",
       "      <td>0</td>\n",
       "      <td>0</td>\n",
       "      <td>...</td>\n",
       "      <td>0</td>\n",
       "      <td>0</td>\n",
       "      <td>0</td>\n",
       "      <td>0</td>\n",
       "      <td>0</td>\n",
       "      <td>0</td>\n",
       "      <td>0</td>\n",
       "      <td>0</td>\n",
       "      <td>0</td>\n",
       "      <td>0</td>\n",
       "    </tr>\n",
       "    <tr>\n",
       "      <th>207406</th>\n",
       "      <td>0</td>\n",
       "      <td>0</td>\n",
       "      <td>0</td>\n",
       "      <td>0</td>\n",
       "      <td>0</td>\n",
       "      <td>0</td>\n",
       "      <td>0</td>\n",
       "      <td>0</td>\n",
       "      <td>0</td>\n",
       "      <td>0</td>\n",
       "      <td>...</td>\n",
       "      <td>0</td>\n",
       "      <td>0</td>\n",
       "      <td>0</td>\n",
       "      <td>0</td>\n",
       "      <td>0</td>\n",
       "      <td>0</td>\n",
       "      <td>0</td>\n",
       "      <td>0</td>\n",
       "      <td>0</td>\n",
       "      <td>0</td>\n",
       "    </tr>\n",
       "    <tr>\n",
       "      <th>...</th>\n",
       "      <td>...</td>\n",
       "      <td>...</td>\n",
       "      <td>...</td>\n",
       "      <td>...</td>\n",
       "      <td>...</td>\n",
       "      <td>...</td>\n",
       "      <td>...</td>\n",
       "      <td>...</td>\n",
       "      <td>...</td>\n",
       "      <td>...</td>\n",
       "      <td>...</td>\n",
       "      <td>...</td>\n",
       "      <td>...</td>\n",
       "      <td>...</td>\n",
       "      <td>...</td>\n",
       "      <td>...</td>\n",
       "      <td>...</td>\n",
       "      <td>...</td>\n",
       "      <td>...</td>\n",
       "      <td>...</td>\n",
       "      <td>...</td>\n",
       "    </tr>\n",
       "    <tr>\n",
       "      <th>118264</th>\n",
       "      <td>0</td>\n",
       "      <td>0</td>\n",
       "      <td>0</td>\n",
       "      <td>0</td>\n",
       "      <td>0</td>\n",
       "      <td>0</td>\n",
       "      <td>0</td>\n",
       "      <td>0</td>\n",
       "      <td>0</td>\n",
       "      <td>0</td>\n",
       "      <td>...</td>\n",
       "      <td>0</td>\n",
       "      <td>0</td>\n",
       "      <td>0</td>\n",
       "      <td>0</td>\n",
       "      <td>0</td>\n",
       "      <td>0</td>\n",
       "      <td>0</td>\n",
       "      <td>0</td>\n",
       "      <td>0</td>\n",
       "      <td>0</td>\n",
       "    </tr>\n",
       "    <tr>\n",
       "      <th>129758</th>\n",
       "      <td>0</td>\n",
       "      <td>0</td>\n",
       "      <td>0</td>\n",
       "      <td>0</td>\n",
       "      <td>0</td>\n",
       "      <td>0</td>\n",
       "      <td>0</td>\n",
       "      <td>0</td>\n",
       "      <td>0</td>\n",
       "      <td>0</td>\n",
       "      <td>...</td>\n",
       "      <td>0</td>\n",
       "      <td>0</td>\n",
       "      <td>0</td>\n",
       "      <td>0</td>\n",
       "      <td>0</td>\n",
       "      <td>0</td>\n",
       "      <td>0</td>\n",
       "      <td>0</td>\n",
       "      <td>0</td>\n",
       "      <td>0</td>\n",
       "    </tr>\n",
       "    <tr>\n",
       "      <th>147036</th>\n",
       "      <td>0</td>\n",
       "      <td>0</td>\n",
       "      <td>0</td>\n",
       "      <td>0</td>\n",
       "      <td>0</td>\n",
       "      <td>0</td>\n",
       "      <td>0</td>\n",
       "      <td>0</td>\n",
       "      <td>0</td>\n",
       "      <td>0</td>\n",
       "      <td>...</td>\n",
       "      <td>0</td>\n",
       "      <td>0</td>\n",
       "      <td>0</td>\n",
       "      <td>0</td>\n",
       "      <td>0</td>\n",
       "      <td>0</td>\n",
       "      <td>0</td>\n",
       "      <td>0</td>\n",
       "      <td>0</td>\n",
       "      <td>0</td>\n",
       "    </tr>\n",
       "    <tr>\n",
       "      <th>8982</th>\n",
       "      <td>0</td>\n",
       "      <td>0</td>\n",
       "      <td>0</td>\n",
       "      <td>0</td>\n",
       "      <td>0</td>\n",
       "      <td>0</td>\n",
       "      <td>0</td>\n",
       "      <td>0</td>\n",
       "      <td>0</td>\n",
       "      <td>0</td>\n",
       "      <td>...</td>\n",
       "      <td>0</td>\n",
       "      <td>0</td>\n",
       "      <td>0</td>\n",
       "      <td>0</td>\n",
       "      <td>0</td>\n",
       "      <td>0</td>\n",
       "      <td>0</td>\n",
       "      <td>0</td>\n",
       "      <td>0</td>\n",
       "      <td>0</td>\n",
       "    </tr>\n",
       "    <tr>\n",
       "      <th>154444</th>\n",
       "      <td>0</td>\n",
       "      <td>0</td>\n",
       "      <td>0</td>\n",
       "      <td>0</td>\n",
       "      <td>0</td>\n",
       "      <td>0</td>\n",
       "      <td>0</td>\n",
       "      <td>0</td>\n",
       "      <td>0</td>\n",
       "      <td>0</td>\n",
       "      <td>...</td>\n",
       "      <td>0</td>\n",
       "      <td>0</td>\n",
       "      <td>0</td>\n",
       "      <td>0</td>\n",
       "      <td>0</td>\n",
       "      <td>0</td>\n",
       "      <td>1</td>\n",
       "      <td>0</td>\n",
       "      <td>0</td>\n",
       "      <td>0</td>\n",
       "    </tr>\n",
       "  </tbody>\n",
       "</table>\n",
       "<p>31782 rows × 341 columns</p>\n",
       "</div>"
      ],
      "text/plain": [
       "        Agoura Hills  Alameda  Alamo  Alpine  Anaheim  Anaheim Hills  \\\n",
       "690                0        0      0       0        0              0   \n",
       "182925             0        0      0       0        0              0   \n",
       "136554             0        0      0       0        0              0   \n",
       "6627               0        0      0       0        0              0   \n",
       "207406             0        0      0       0        0              0   \n",
       "...              ...      ...    ...     ...      ...            ...   \n",
       "118264             0        0      0       0        0              0   \n",
       "129758             0        0      0       0        0              0   \n",
       "147036             0        0      0       0        0              0   \n",
       "8982               0        0      0       0        0              0   \n",
       "154444             0        0      0       0        0              0   \n",
       "\n",
       "        Antelope  Antioch  Apple Valley  Aptos  ...  Wildomar  Winchester  \\\n",
       "690            0        0             0      0  ...         0           0   \n",
       "182925         0        0             0      0  ...         0           0   \n",
       "136554         0        0             0      0  ...         0           0   \n",
       "6627           0        0             0      0  ...         0           0   \n",
       "207406         0        0             0      0  ...         0           0   \n",
       "...          ...      ...           ...    ...  ...       ...         ...   \n",
       "118264         0        0             0      0  ...         0           0   \n",
       "129758         0        0             0      0  ...         0           0   \n",
       "147036         0        0             0      0  ...         0           0   \n",
       "8982           0        0             0      0  ...         0           0   \n",
       "154444         0        0             0      0  ...         0           0   \n",
       "\n",
       "        Windsor  Woodland  Woodland Hills  Wrightwood  Yorba Linda  Yuba City  \\\n",
       "690           0         0               0           0            0          0   \n",
       "182925        0         0               0           0            0          0   \n",
       "136554        0         0               0           0            0          0   \n",
       "6627          0         0               0           0            0          0   \n",
       "207406        0         0               0           0            0          0   \n",
       "...         ...       ...             ...         ...          ...        ...   \n",
       "118264        0         0               0           0            0          0   \n",
       "129758        0         0               0           0            0          0   \n",
       "147036        0         0               0           0            0          0   \n",
       "8982          0         0               0           0            0          0   \n",
       "154444        0         0               0           0            1          0   \n",
       "\n",
       "        Yucaipa  Yucca Valley  \n",
       "690           0             0  \n",
       "182925        0             0  \n",
       "136554        0             0  \n",
       "6627          0             0  \n",
       "207406        0             0  \n",
       "...         ...           ...  \n",
       "118264        0             0  \n",
       "129758        0             0  \n",
       "147036        0             0  \n",
       "8982          0             0  \n",
       "154444        0             0  \n",
       "\n",
       "[31782 rows x 341 columns]"
      ]
     },
     "execution_count": 113,
     "metadata": {},
     "output_type": "execute_result"
    }
   ],
   "source": [
    "city_dummies"
   ]
  },
  {
   "cell_type": "code",
   "execution_count": 114,
   "metadata": {},
   "outputs": [],
   "source": [
    "city_dummies = pd.get_dummies(X_test['location.address.city'])\n",
    "X_test = X_test.join(city_dummies)\n",
    "X_test.drop(columns = ['location.address.city', 'Yucca Valley'], inplace = True)"
   ]
  },
  {
   "cell_type": "code",
   "execution_count": 115,
   "metadata": {},
   "outputs": [],
   "source": [
    "type_dummies = pd.get_dummies(X_train['description.type'])\n",
    "X_train = X_train.join(type_dummies)\n",
    "X_train.drop(columns = ['description.type', 'mobile'], inplace = True)"
   ]
  },
  {
   "cell_type": "code",
   "execution_count": 116,
   "metadata": {},
   "outputs": [],
   "source": [
    "type_dummies = pd.get_dummies(X_test['description.type'])\n",
    "X_test = X_test.join(type_dummies)\n",
    "X_test.drop(columns = ['description.type', 'mobile'], inplace = True)"
   ]
  },
  {
   "cell_type": "code",
   "execution_count": 117,
   "metadata": {},
   "outputs": [],
   "source": [
    "#fit mode2\n",
    "lr_model_2 = LinearRegression()\n",
    "lr_model_2.fit(X_train, y_train)\n",
    "\n",
    "#Scores\n",
    "train_score = lr_model_2.score(X_train, y_train)\n",
    "test_score = lr_model_2.score(X_test, y_test)\n",
    "\n",
    "#Adj R2\n",
    "adjusted_r2 = 1 - (1-lr_model_2.score(X_test, y_test))*(len(y_test)-1)/(len(y_test)-X_test.shape[1]-1)"
   ]
  },
  {
   "cell_type": "code",
   "execution_count": 118,
   "metadata": {},
   "outputs": [
    {
     "name": "stdout",
     "output_type": "stream",
     "text": [
      "\n",
      "Train R^2 score was: 0.7773834144696963\n",
      "\n",
      "Validation R^2 score was: 0.7633722032558112\n",
      "\n",
      "Validation adjusted R^2 was: 0.7545496316174117\n",
      "\n",
      "Feature coefficient results: \n",
      "\n",
      "description.year_built : -1279.21\n",
      "description.baths_3qtr : 35834.06\n",
      "description.baths_full : 26160.31\n",
      "description.baths_half : 20381.94\n",
      "description.lot_sqft : 1.42\n",
      "description.sqft : 332.26\n",
      "description.baths : 49073.10\n",
      "description.garage : -444.57\n",
      "description.stories : -12261.76\n",
      "description.beds : -17108.94\n",
      "Agoura Hills : 663192.76\n",
      "Alameda : 1031396.44\n",
      "Alamo : 1372722.56\n",
      "Alpine : 178457.51\n",
      "Anaheim : 441647.82\n",
      "Anaheim Hills : 506507.75\n",
      "Antelope : 147833.61\n",
      "Antioch : 215092.11\n",
      "Apple Valley : -94964.17\n",
      "Aptos : 1038061.46\n",
      "Arcadia : 885035.45\n",
      "Arnold : 101014.20\n",
      "Arroyo Grande : 423392.65\n",
      "Atascadero : 267098.06\n",
      "Atwater : -2178.30\n",
      "Auburn : 140420.79\n",
      "Bakersfield : -45291.43\n",
      "Baldwin Park : 422288.35\n",
      "Banning : 101213.22\n",
      "Barstow : -90285.42\n",
      "Beaumont : -62473.96\n",
      "Ben Lomond : 569279.13\n",
      "Benicia : 394887.82\n",
      "Berkeley : 1264889.81\n",
      "Big Bear : 277699.57\n",
      "Blythe : -70883.40\n",
      "Borrego Springs : -21592.21\n",
      "Boulder Creek : 467542.07\n",
      "Brea : 468769.62\n",
      "Brentwood : 251724.87\n",
      "Buena Park : 490140.51\n",
      "Burbank : 793837.68\n",
      "Burlingame : 2416490.59\n",
      "California City : -70371.25\n",
      "Camarillo : 364137.50\n",
      "Cambria : 585415.96\n",
      "Cameron Park : 64760.97\n",
      "Canyon Country : 299560.15\n",
      "Carlsbad : 894500.42\n",
      "Carmel : 1633539.39\n",
      "Carmel Valley : 800752.44\n",
      "Carmichael : 180943.88\n",
      "Carson : 392726.96\n",
      "Castaic : 260662.44\n",
      "Castro Valley : 794000.46\n",
      "Cathedral City : 141349.81\n",
      "Ceres : 78555.72\n",
      "Chico : 112909.39\n",
      "Chino : 282195.39\n",
      "Chino Hills : 360902.56\n",
      "Chowchilla : -187278.47\n",
      "Chula Vista : 354703.61\n",
      "Citrus Heights : 177065.76\n",
      "Clearlake : 74734.35\n",
      "Cloverdale : 295914.19\n",
      "Clovis : 11988.21\n",
      "Coarsegold : -129752.69\n",
      "Colton : 167512.87\n",
      "Compton : 348869.43\n",
      "Concord : 518141.52\n",
      "Copperopolis : 30540.72\n",
      "Corning : 5085.37\n",
      "Corona : 191719.92\n",
      "Corona Del Mar : 2940424.89\n",
      "Costa Mesa : 957845.18\n",
      "Covina : 417779.89\n",
      "Crestline : 62976.14\n",
      "Culver City : 1115727.77\n",
      "Daly City : 920207.18\n",
      "Dana Point : 1199890.75\n",
      "Danville : 1182082.30\n",
      "Davis : 446185.76\n",
      "Delano : -13961.44\n",
      "Desert Hot Springs : 11766.08\n",
      "Diamond Bar : 444201.22\n",
      "Discovery Bay : 262935.19\n",
      "Downey : 414934.35\n",
      "Dublin : 987657.60\n",
      "Eastvale : -14108.81\n",
      "El Cajon : 340631.46\n",
      "El Dorado Hills : 169807.50\n",
      "Elk Grove : 122682.36\n",
      "Encinitas : 1411399.45\n",
      "Encino : 918261.53\n",
      "Escondido : 314429.98\n",
      "Fair Oaks : 146055.07\n",
      "Fairfax : 1055368.85\n",
      "Fairfield : 184929.65\n",
      "Fallbrook : 197928.41\n",
      "Felton : 510078.95\n",
      "Fillmore : 202839.32\n",
      "Folsom : 251840.05\n",
      "Fontana : 170640.19\n",
      "Foresthill : 4344.52\n",
      "Frazier Park : 51937.34\n",
      "Fremont : 1200840.52\n",
      "Fresno : -23762.93\n",
      "Fullerton : 524739.59\n",
      "Galt : 126381.31\n",
      "Garden Grove : 511681.78\n",
      "Gardena : 485025.27\n",
      "Gilroy : 515179.42\n",
      "Glendale : 768527.22\n",
      "Glendora : 464459.06\n",
      "Granada Hills : 480182.06\n",
      "Grass Valley : 53144.29\n",
      "Gridley : -3359.77\n",
      "Groveland : -68277.19\n",
      "Guerneville : 386288.02\n",
      "Hanford : -29337.09\n",
      "Hawthorne : 698213.46\n",
      "Hayward : 644079.76\n",
      "Healdsburg : 828176.15\n",
      "Helendale : -115268.79\n",
      "Hemet : 22768.79\n",
      "Hercules : 375035.46\n",
      "Hesperia : 9717.16\n",
      "Hidden Valley Lake : -12362.16\n",
      "Highland : 74727.77\n",
      "Hollister : 297515.56\n",
      "Huntington Beach : 926299.51\n",
      "Huntington Park : 354527.77\n",
      "Idyllwild : 157272.49\n",
      "Indio : 54953.21\n",
      "Inglewood : 533809.52\n",
      "Ione : 55442.96\n",
      "Irvine : 825216.23\n",
      "Jackson : -24808.34\n",
      "Jurupa Valley : 132674.05\n",
      "Kelseyville : -40276.66\n",
      "La Canada Flintridge : 1211026.43\n",
      "La Crescenta : 765359.66\n",
      "La Jolla : 2116958.62\n",
      "La Mesa : 441898.87\n",
      "La Puente : 383179.06\n",
      "La Quinta : 202283.36\n",
      "Laguna Beach : 2708379.34\n",
      "Laguna Niguel : 740915.79\n",
      "Lake Arrowhead : 329791.16\n",
      "Lake Elsinore : 35224.49\n",
      "Lake Forest : 514759.96\n",
      "Lakeport : 72765.13\n",
      "Lakewood : 516544.08\n",
      "Lancaster : -10965.44\n",
      "Lemoore : -64981.58\n",
      "Lincoln : 135097.68\n",
      "Livermore : 764923.49\n",
      "Lodi : 152305.53\n",
      "Loma Linda : 151624.48\n",
      "Lompoc : 108462.34\n",
      "Long Beach : 675691.78\n",
      "Los Altos : 3250328.76\n",
      "Los Angeles : 865705.33\n",
      "Los Banos : 38726.09\n",
      "Los Gatos : 1695045.40\n",
      "Los Osos : 439522.04\n",
      "Madera : -37569.93\n",
      "Magalia : 799.27\n",
      "Manhattan Beach : 2474659.65\n",
      "Manteca : 124087.20\n",
      "Marina : 437859.04\n",
      "Martinez : 518010.90\n",
      "Menifee : 2661.02\n",
      "Menlo Park : 2474615.19\n",
      "Merced : 26453.72\n",
      "Mill Valley : 1672030.30\n",
      "Millbrae : 1608261.64\n",
      "Milpitas : 1082592.28\n",
      "Mission Viejo : 543789.19\n",
      "Modesto : 82965.52\n",
      "Monterey : 777979.18\n",
      "Moorpark : 345738.37\n",
      "Moraga : 1122208.17\n",
      "Moreno Valley : 59714.08\n",
      "Morgan Hill : 720490.40\n",
      "Morro Bay : 601895.93\n",
      "Mountain House : 276824.59\n",
      "Mountain View : 1902754.79\n",
      "Murphys : 17993.81\n",
      "Murrieta : 72263.74\n",
      "Napa : 650930.63\n",
      "Nevada City : 80351.31\n",
      "Newbury Park : 447560.52\n",
      "Newman : 33785.08\n",
      "Newport Beach : 2488658.40\n",
      "Nipomo : 330275.62\n",
      "North Hollywood : 579294.90\n",
      "Norwalk : 449693.10\n",
      "Novato : 724607.70\n",
      "Oakdale : 30404.93\n",
      "Oakhurst : -30503.71\n",
      "Oakland : 738720.91\n",
      "Oakley : 205466.43\n",
      "Oceanside : 404479.44\n",
      "Ojai : 662002.60\n",
      "Olivehurst : 126106.32\n",
      "Ontario : 270478.39\n",
      "Orange : 522412.14\n",
      "Orinda : 1279651.96\n",
      "Orland : 28089.42\n",
      "Oroville : 39326.14\n",
      "Oxnard : 410585.45\n",
      "Pacific Grove : 1137655.69\n",
      "Pacifica : 1023648.16\n",
      "Palm Desert : 254016.42\n",
      "Palm Springs : 486166.56\n",
      "Palmdale : 1174.22\n",
      "Palo Alto : 3032274.59\n",
      "Pasadena : 856088.05\n",
      "Paso Robles : 211591.92\n",
      "Patterson : -83993.13\n",
      "Penn Valley : -30739.40\n",
      "Perris : 17992.08\n",
      "Petaluma : 542616.21\n",
      "Phelan : -99170.02\n",
      "Pico Rivera : 389853.87\n",
      "Pine Grove : -28522.77\n",
      "Pine Mountain Club : 19255.41\n",
      "Pinole : 471033.54\n",
      "Pinon Hills : -113911.77\n",
      "Pioneer : -38610.45\n",
      "Pismo Beach : 878790.33\n",
      "Pittsburg : 273948.89\n",
      "Placentia : 431449.26\n",
      "Placerville : 69579.50\n",
      "Pleasanton : 1179132.59\n",
      "Plumas Lake : -42994.73\n",
      "Pollock Pines : 61951.22\n",
      "Pomona : 316009.90\n",
      "Poway : 626272.39\n",
      "Ramona : 214199.36\n",
      "Rancho Cordova : 120799.42\n",
      "Rancho Cucamonga : 293414.17\n",
      "Rancho Mirage : 212579.23\n",
      "Rancho Santa Margarita : 518954.22\n",
      "Red Bluff : -16450.71\n",
      "Redding : -20347.41\n",
      "Redlands : 175298.80\n",
      "Redondo Beach : 1070800.73\n",
      "Redwood City : 1645760.54\n",
      "Rialto : 168014.35\n",
      "Richmond : 507129.83\n",
      "Rio Vista : 85076.81\n",
      "Ripon : 130063.36\n",
      "Riverbank : 64631.67\n",
      "Riverside : 154350.77\n",
      "Rocklin : 149128.19\n",
      "Rodeo : 353447.36\n",
      "Rohnert Park : 391487.64\n",
      "Rosamond : -10385.25\n",
      "Roseville : 111620.30\n",
      "Running Springs : 114378.43\n",
      "Sacramento : 213099.93\n",
      "Salida : 144559.91\n",
      "Salinas : 339603.00\n",
      "San Anselmo : 1276881.48\n",
      "San Bernardino : 85632.47\n",
      "San Bruno : 1055272.55\n",
      "San Carlos : 1887456.78\n",
      "San Clemente : 818809.48\n",
      "San Diego : 714086.63\n",
      "San Francisco : 1523168.86\n",
      "San Jacinto : -4189.28\n",
      "San Jose : 1035177.62\n",
      "San Juan Capistrano : 670140.47\n",
      "San Leandro : 620565.85\n",
      "San Luis Obispo : 561254.20\n",
      "San Marcos : 451494.52\n",
      "San Mateo : 1563399.14\n",
      "San Pedro : 567177.70\n",
      "San Rafael : 946124.94\n",
      "San Ramon : 1053102.08\n",
      "Santa Ana : 499212.25\n",
      "Santa Barbara : 1810754.76\n",
      "Santa Clara : 1236644.32\n",
      "Santa Cruz : 1143073.32\n",
      "Santa Maria : 169525.26\n",
      "Santa Monica : 1502731.18\n",
      "Santa Rosa : 370063.90\n",
      "Saratoga : 2607978.00\n",
      "Saugus : 223138.77\n",
      "Scotts Valley : 802945.89\n",
      "Seal Beach : 1106275.03\n",
      "Seaside : 461203.81\n",
      "Sebastopol : 619477.74\n",
      "Shafter : -51910.26\n",
      "Sherman Oaks : 907153.57\n",
      "Simi Valley : 374748.77\n",
      "Sonoma : 777559.95\n",
      "Sonora : 25723.98\n",
      "South Lake Tahoe : 438849.97\n",
      "South San Francisco : 1049921.77\n",
      "Spring Valley : 324975.00\n",
      "Stockton : 108932.54\n",
      "Studio City : 1194329.03\n",
      "Suisun City : 188481.44\n",
      "Sun Valley : 465895.48\n",
      "Sunnyvale : 1609187.91\n",
      "Sylmar : 422160.26\n",
      "Taft : -101672.42\n",
      "Tehachapi : -60855.87\n",
      "Temecula : 46031.65\n",
      "Thousand Oaks : 535427.99\n",
      "Torrance : 719771.40\n",
      "Tracy : 228048.75\n",
      "Tujunga : 575566.04\n",
      "Turlock : 75706.85\n",
      "Tustin : 571399.21\n",
      "Twain Harte : 26162.62\n",
      "Twentynine Palms : 8430.03\n",
      "Twin Peaks : 76330.18\n",
      "Ukiah : 163994.62\n",
      "Union City : 974282.57\n",
      "Upland : 340919.23\n",
      "Vacaville : 179214.10\n",
      "Valencia : 336686.31\n",
      "Vallejo : 253587.55\n",
      "Valley Springs : 14572.42\n",
      "Ventura : 447158.74\n",
      "Victorville : -39160.93\n",
      "Visalia : -85709.44\n",
      "Vista : 361887.69\n",
      "Walnut Creek : 944254.09\n",
      "Waterford : 11719.06\n",
      "Watsonville : 527097.94\n",
      "West Covina : 399292.64\n",
      "West Hills : 543426.07\n",
      "West Sacramento : 128979.77\n",
      "Westlake Village : 788793.49\n",
      "Westminster : 547288.13\n",
      "Whittier : 425026.95\n",
      "Wildomar : 65701.30\n",
      "Winchester : 35470.02\n",
      "Windsor : 395632.40\n",
      "Woodland : 176978.82\n",
      "Woodland Hills : 666888.36\n",
      "Wrightwood : 78048.94\n",
      "Yorba Linda : 519112.57\n",
      "Yuba City : 9666.98\n",
      "Yucaipa : 6438.11\n",
      "condo_townhome_rowhome_coop : 62932.14\n",
      "condos : -85391.46\n",
      "coop : -738386.47\n",
      "duplex_triplex : -87426.31\n",
      "multi_family : -35100.56\n",
      "single_family : 163687.02\n",
      "townhomes : -157580.43\n"
     ]
    }
   ],
   "source": [
    "#print outputs\n",
    "print('\\nTrain R^2 score was:', train_score)\n",
    "print('\\nValidation R^2 score was:', test_score)\n",
    "print('\\nValidation adjusted R^2 was:',adjusted_r2)\n",
    "print('\\nFeature coefficient results: \\n')\n",
    "for feature, coef in zip(X_train.columns, lr_model_2.coef_):\n",
    "    print(feature, ':', f'{coef:.2f}')"
   ]
  },
  {
   "cell_type": "code",
   "execution_count": 122,
   "metadata": {},
   "outputs": [],
   "source": [
    "#Apply Polynimial \n",
    "from sklearn.preprocessing import PolynomialFeatures\n",
    "from sklearn_pandas import DataFrameMapper"
   ]
  },
  {
   "cell_type": "code",
   "execution_count": 123,
   "metadata": {},
   "outputs": [],
   "source": [
    "from sklearn.preprocessing import StandardScaler"
   ]
  },
  {
   "cell_type": "code",
   "execution_count": 164,
   "metadata": {},
   "outputs": [],
   "source": [
    "#test/train split\n",
    "X_train_val, X_test, y_train_val, y_test = train_test_split(X, y, test_size=0.2, random_state=10, stratify = X['location.address.city'])\n",
    "X_train, X_val, y_train, y_val = train_test_split(X_train_val, y_train_val, test_size = 0.2, random_state = 40, stratify = X_train_val['location.address.city'])\n"
   ]
  },
  {
   "cell_type": "code",
   "execution_count": 166,
   "metadata": {},
   "outputs": [],
   "source": [
    "# Don't forget to standard scale your data for regularized regression\n",
    "scaler = StandardScaler()\n",
    "X_train_scaled = scaler.fit_transform(X_train[['description.year_built','description.baths_3qtr','description.baths_full',\n",
    "                                                    'description.baths_half','description.lot_sqft','description.sqft','description.baths',\n",
    "                                                    'description.garage','description.stories','description.beds']])\n",
    "\n",
    "# Apply the same scaler to val set\n",
    "X_test_scaled = scaler.transform(X_test[['description.year_built','description.baths_3qtr','description.baths_full',\n",
    "                                              'description.baths_half','description.lot_sqft','description.sqft','description.baths',\n",
    "                                              'description.garage','description.stories','description.beds']])"
   ]
  },
  {
   "cell_type": "code",
   "execution_count": 140,
   "metadata": {},
   "outputs": [
    {
     "data": {
      "text/plain": [
       "31782"
      ]
     },
     "execution_count": 140,
     "metadata": {},
     "output_type": "execute_result"
    }
   ],
   "source": [
    "len(X_train_scaled)"
   ]
  },
  {
   "cell_type": "code",
   "execution_count": 167,
   "metadata": {},
   "outputs": [],
   "source": [
    "city_dummies_train = pd.get_dummies(X_train['location.address.city'])\n",
    "city_dummies_train_arr = np.array(city_dummies_train)"
   ]
  },
  {
   "cell_type": "code",
   "execution_count": 168,
   "metadata": {},
   "outputs": [],
   "source": [
    "city_dummies_test = pd.get_dummies(X_test['location.address.city'])\n",
    "city_dummies_test_arr = np.array(city_dummies_test)"
   ]
  },
  {
   "cell_type": "code",
   "execution_count": 169,
   "metadata": {},
   "outputs": [],
   "source": [
    "X_train_scaled_all = np.concatenate((X_train_scaled, city_dummies_train_arr), axis = 1)"
   ]
  },
  {
   "cell_type": "code",
   "execution_count": 170,
   "metadata": {},
   "outputs": [],
   "source": [
    "X_test_scaled_all = np.concatenate((X_test_scaled, city_dummies_test_arr), axis = 1)"
   ]
  },
  {
   "cell_type": "code",
   "execution_count": 171,
   "metadata": {},
   "outputs": [
    {
     "data": {
      "text/plain": [
       "array([[ 0.71238952, -0.21652198, -0.10346005, ...,  0.        ,\n",
       "         0.        ,  0.        ],\n",
       "       [-0.4280509 , -0.21652198, -0.10346005, ...,  0.        ,\n",
       "         0.        ,  0.        ],\n",
       "       [-0.4280509 , -0.21652198, -1.2773862 , ...,  0.        ,\n",
       "         0.        ,  0.        ],\n",
       "       ...,\n",
       "       [-1.94863812, -0.21652198,  1.07046611, ...,  0.        ,\n",
       "         0.        ,  0.        ],\n",
       "       [ 1.16856568, -0.21652198,  1.07046611, ...,  0.        ,\n",
       "         0.        ,  0.        ],\n",
       "       [-1.4164326 , -0.21652198, -1.2773862 , ...,  0.        ,\n",
       "         0.        ,  0.        ]])"
      ]
     },
     "execution_count": 171,
     "metadata": {},
     "output_type": "execute_result"
    }
   ],
   "source": [
    "X_test_scaled_all"
   ]
  },
  {
   "cell_type": "code",
   "execution_count": 172,
   "metadata": {},
   "outputs": [],
   "source": [
    "lr_model_2_poly = LinearRegression()\n",
    "lr_model_2_poly.fit(X_train_scaled_all, y_train)\n",
    "\n",
    "#Scores\n",
    "train_score_poly = lr_model_2_poly.score(X_train_scaled_all, y_train)\n",
    "test_score_poly = lr_model_2_poly.score(X_test_scaled_all, y_test)\n",
    "\n",
    "#Adj R2\n",
    "adjusted_r2 = 1 - (1-lr_model_2_poly.score(X_test_scaled_all, y_test))*(len(y_test)-1)/(len(y_test)-X_test_scaled_all.shape[1]-1)"
   ]
  },
  {
   "cell_type": "code",
   "execution_count": 173,
   "metadata": {},
   "outputs": [],
   "source": [
    "from sklearn.linear_model import Lasso"
   ]
  },
  {
   "cell_type": "code",
   "execution_count": 174,
   "metadata": {},
   "outputs": [
    {
     "name": "stderr",
     "output_type": "stream",
     "text": [
      "/Users/wentingdeng/opt/anaconda3/envs/firstEnv/lib/python3.9/site-packages/sklearn/linear_model/_coordinate_descent.py:530: ConvergenceWarning: Objective did not converge. You might want to increase the number of iterations. Duality gap: 1783500444863309.0, tolerance: 1508569792016.9795\n",
      "  model = cd_fast.enet_coordinate_descent(\n"
     ]
    },
    {
     "name": "stdout",
     "output_type": "stream",
     "text": [
      "alpha=0.0001: \t0.7636 \t0.7484\n"
     ]
    },
    {
     "name": "stderr",
     "output_type": "stream",
     "text": [
      "/Users/wentingdeng/opt/anaconda3/envs/firstEnv/lib/python3.9/site-packages/sklearn/linear_model/_coordinate_descent.py:530: ConvergenceWarning: Objective did not converge. You might want to increase the number of iterations. Duality gap: 1783446189749189.8, tolerance: 1508569792016.9795\n",
      "  model = cd_fast.enet_coordinate_descent(\n"
     ]
    },
    {
     "name": "stdout",
     "output_type": "stream",
     "text": [
      "alpha=0.001: \t0.7636 \t0.7484\n"
     ]
    },
    {
     "name": "stderr",
     "output_type": "stream",
     "text": [
      "/Users/wentingdeng/opt/anaconda3/envs/firstEnv/lib/python3.9/site-packages/sklearn/linear_model/_coordinate_descent.py:530: ConvergenceWarning: Objective did not converge. You might want to increase the number of iterations. Duality gap: 1782903487308472.2, tolerance: 1508569792016.9795\n",
      "  model = cd_fast.enet_coordinate_descent(\n"
     ]
    },
    {
     "name": "stdout",
     "output_type": "stream",
     "text": [
      "alpha=0.01: \t0.7636 \t0.7484\n"
     ]
    },
    {
     "name": "stderr",
     "output_type": "stream",
     "text": [
      "/Users/wentingdeng/opt/anaconda3/envs/firstEnv/lib/python3.9/site-packages/sklearn/linear_model/_coordinate_descent.py:530: ConvergenceWarning: Objective did not converge. You might want to increase the number of iterations. Duality gap: 1777461738157627.5, tolerance: 1508569792016.9795\n",
      "  model = cd_fast.enet_coordinate_descent(\n"
     ]
    },
    {
     "name": "stdout",
     "output_type": "stream",
     "text": [
      "alpha=0.1: \t0.7636 \t0.7484\n"
     ]
    },
    {
     "name": "stderr",
     "output_type": "stream",
     "text": [
      "/Users/wentingdeng/opt/anaconda3/envs/firstEnv/lib/python3.9/site-packages/sklearn/linear_model/_coordinate_descent.py:530: ConvergenceWarning: Objective did not converge. You might want to increase the number of iterations. Duality gap: 1721858043003726.2, tolerance: 1508569792016.9795\n",
      "  model = cd_fast.enet_coordinate_descent(\n"
     ]
    },
    {
     "name": "stdout",
     "output_type": "stream",
     "text": [
      "alpha=1: \t0.7635 \t0.7484\n",
      "alpha=2: \t0.7635 \t0.7484\n"
     ]
    },
    {
     "name": "stderr",
     "output_type": "stream",
     "text": [
      "/Users/wentingdeng/opt/anaconda3/envs/firstEnv/lib/python3.9/site-packages/sklearn/linear_model/_coordinate_descent.py:530: ConvergenceWarning: Objective did not converge. You might want to increase the number of iterations. Duality gap: 1657801964676651.0, tolerance: 1508569792016.9795\n",
      "  model = cd_fast.enet_coordinate_descent(\n"
     ]
    }
   ],
   "source": [
    "alphas = [0.0001, 0.001, 0.01, 0.1, 1, 2]\n",
    "for alpha in alphas:\n",
    "    lasso = Lasso(alpha=alpha)\n",
    "    lasso.fit(X_train_scaled_all,y_train)\n",
    "    print(f\"alpha={alpha}: \\t{lasso.score(X_train_scaled_all,y_train):.4f} \\t{lasso.score(X_test_scaled_all,y_test):.4f}\")"
   ]
  },
  {
   "cell_type": "code",
   "execution_count": 175,
   "metadata": {},
   "outputs": [
    {
     "name": "stdout",
     "output_type": "stream",
     "text": [
      "\n",
      "Train R^2 score was: 0.7635551047742672\n",
      "\n",
      "Validation R^2 score was: 0.7485420447255149\n",
      "\n",
      "Validation adjusted R^2 was: 0.7393298808280778\n",
      "\n",
      "Feature coefficient results: \n",
      "\n"
     ]
    },
    {
     "ename": "AttributeError",
     "evalue": "'numpy.ndarray' object has no attribute 'columns'",
     "output_type": "error",
     "traceback": [
      "\u001b[0;31m---------------------------------------------------------------------------\u001b[0m",
      "\u001b[0;31mAttributeError\u001b[0m                            Traceback (most recent call last)",
      "\u001b[0;32m<ipython-input-175-236e6d6a6d1e>\u001b[0m in \u001b[0;36m<module>\u001b[0;34m\u001b[0m\n\u001b[1;32m      4\u001b[0m \u001b[0mprint\u001b[0m\u001b[0;34m(\u001b[0m\u001b[0;34m'\\nValidation adjusted R^2 was:'\u001b[0m\u001b[0;34m,\u001b[0m\u001b[0madjusted_r2\u001b[0m\u001b[0;34m)\u001b[0m\u001b[0;34m\u001b[0m\u001b[0;34m\u001b[0m\u001b[0m\n\u001b[1;32m      5\u001b[0m \u001b[0mprint\u001b[0m\u001b[0;34m(\u001b[0m\u001b[0;34m'\\nFeature coefficient results: \\n'\u001b[0m\u001b[0;34m)\u001b[0m\u001b[0;34m\u001b[0m\u001b[0;34m\u001b[0m\u001b[0m\n\u001b[0;32m----> 6\u001b[0;31m \u001b[0;32mfor\u001b[0m \u001b[0mfeature\u001b[0m\u001b[0;34m,\u001b[0m \u001b[0mcoef\u001b[0m \u001b[0;32min\u001b[0m \u001b[0mzip\u001b[0m\u001b[0;34m(\u001b[0m\u001b[0mX_train_poly\u001b[0m\u001b[0;34m.\u001b[0m\u001b[0mcolumns\u001b[0m\u001b[0;34m,\u001b[0m \u001b[0mlr_model_2_poly\u001b[0m\u001b[0;34m.\u001b[0m\u001b[0mcoef_\u001b[0m\u001b[0;34m)\u001b[0m\u001b[0;34m:\u001b[0m\u001b[0;34m\u001b[0m\u001b[0;34m\u001b[0m\u001b[0m\n\u001b[0m\u001b[1;32m      7\u001b[0m     \u001b[0mprint\u001b[0m\u001b[0;34m(\u001b[0m\u001b[0mfeature\u001b[0m\u001b[0;34m,\u001b[0m \u001b[0;34m':'\u001b[0m\u001b[0;34m,\u001b[0m \u001b[0;34mf'{coef:.2f}'\u001b[0m\u001b[0;34m)\u001b[0m\u001b[0;34m\u001b[0m\u001b[0;34m\u001b[0m\u001b[0m\n",
      "\u001b[0;31mAttributeError\u001b[0m: 'numpy.ndarray' object has no attribute 'columns'"
     ]
    }
   ],
   "source": [
    "#print outputs\n",
    "print('\\nTrain R^2 score was:', train_score_poly)\n",
    "print('\\nValidation R^2 score was:', test_score_poly)\n",
    "print('\\nValidation adjusted R^2 was:',adjusted_r2)\n",
    "print('\\nFeature coefficient results: \\n')\n",
    "for feature, coef in zip(X_train_poly.columns, lr_model_2_poly.coef_):\n",
    "    print(feature, ':', f'{coef:.2f}')"
   ]
  },
  {
   "cell_type": "markdown",
   "metadata": {},
   "source": [
    "### Add list price"
   ]
  },
  {
   "cell_type": "code",
   "execution_count": 177,
   "metadata": {},
   "outputs": [
    {
     "name": "stdout",
     "output_type": "stream",
     "text": [
      "<class 'pandas.core.frame.DataFrame'>\n",
      "Int64Index: 49661 entries, 0 to 243197\n",
      "Data columns (total 22 columns):\n",
      " #   Column                        Non-Null Count  Dtype  \n",
      "---  ------                        --------------  -----  \n",
      " 0   property_id                   49661 non-null  object \n",
      " 1   listing_id                    49661 non-null  object \n",
      " 2   status                        49661 non-null  object \n",
      " 3   list_date                     49660 non-null  object \n",
      " 4   list_price                    49661 non-null  float64\n",
      " 5   description.sold_price        49661 non-null  int64  \n",
      " 6   description.year_built        49661 non-null  int64  \n",
      " 7   description.baths_3qtr        2610 non-null   float64\n",
      " 8   description.baths_full        48528 non-null  float64\n",
      " 9   description.baths_half        13122 non-null  float64\n",
      " 10  description.lot_sqft          49661 non-null  float64\n",
      " 11  description.sqft              49661 non-null  float64\n",
      " 12  description.baths             48832 non-null  float64\n",
      " 13  description.type              49661 non-null  object \n",
      " 14  description.garage            41536 non-null  float64\n",
      " 15  description.stories           46402 non-null  float64\n",
      " 16  description.beds              48995 non-null  float64\n",
      " 17  location.address.postal_code  49661 non-null  object \n",
      " 18  location.address.city         49661 non-null  object \n",
      " 19  location.county.fips_code     49661 non-null  object \n",
      " 20  location.county.name          49661 non-null  object \n",
      " 21  price_change                  49661 non-null  float64\n",
      "dtypes: float64(11), int64(2), object(9)\n",
      "memory usage: 8.7+ MB\n"
     ]
    }
   ],
   "source": [
    "df2.info()"
   ]
  },
  {
   "cell_type": "code",
   "execution_count": 176,
   "metadata": {},
   "outputs": [],
   "source": [
    "features3 = ['list_price','description.year_built','description.baths_3qtr','description.baths_full','description.baths_half',\n",
    "                'description.lot_sqft','description.sqft','description.baths','description.garage',\n",
    "                'description.stories','description.beds', 'description.type','location.address.city']"
   ]
  },
  {
   "cell_type": "code",
   "execution_count": 178,
   "metadata": {},
   "outputs": [],
   "source": [
    "X = df2[features3]\n",
    "y = df2.iloc[:, 5]"
   ]
  },
  {
   "cell_type": "code",
   "execution_count": 179,
   "metadata": {},
   "outputs": [],
   "source": [
    "X = X.fillna(0)"
   ]
  },
  {
   "cell_type": "code",
   "execution_count": 180,
   "metadata": {},
   "outputs": [],
   "source": [
    "#test/train split\n",
    "X_train_val, X_test, y_train_val, y_test = train_test_split(X, y, test_size=0.2, random_state=10, stratify = X['location.address.city'])\n",
    "X_train, X_val, y_train, y_val = train_test_split(X_train_val, y_train_val, test_size = 0.2, random_state = 40, stratify = X_train_val['location.address.city'])\n"
   ]
  },
  {
   "cell_type": "code",
   "execution_count": 181,
   "metadata": {},
   "outputs": [],
   "source": [
    "scaler = StandardScaler()\n",
    "X_train_scaled = scaler.fit_transform(X_train[['list_price','description.year_built','description.baths_3qtr','description.baths_full',\n",
    "                                                    'description.baths_half','description.lot_sqft','description.sqft','description.baths',\n",
    "                                                    'description.garage','description.stories','description.beds']])\n",
    "\n",
    "# Apply the same scaler to val set\n",
    "X_test_scaled = scaler.transform(X_test[['list_price','description.year_built','description.baths_3qtr','description.baths_full',\n",
    "                                              'description.baths_half','description.lot_sqft','description.sqft','description.baths',\n",
    "                                              'description.garage','description.stories','description.beds']])"
   ]
  },
  {
   "cell_type": "code",
   "execution_count": 182,
   "metadata": {},
   "outputs": [],
   "source": [
    "city_dummies_train = pd.get_dummies(X_train['location.address.city'])\n",
    "city_dummies_train_arr = np.array(city_dummies_train)"
   ]
  },
  {
   "cell_type": "code",
   "execution_count": 183,
   "metadata": {},
   "outputs": [],
   "source": [
    "city_dummies_test = pd.get_dummies(X_test['location.address.city'])\n",
    "city_dummies_test_arr = np.array(city_dummies_test)"
   ]
  },
  {
   "cell_type": "code",
   "execution_count": 184,
   "metadata": {},
   "outputs": [],
   "source": [
    "X_train_scaled_all = np.concatenate((X_train_scaled, city_dummies_train_arr), axis = 1)"
   ]
  },
  {
   "cell_type": "code",
   "execution_count": 185,
   "metadata": {},
   "outputs": [],
   "source": [
    "X_test_scaled_all = np.concatenate((X_test_scaled, city_dummies_test_arr), axis = 1)"
   ]
  },
  {
   "cell_type": "code",
   "execution_count": 186,
   "metadata": {},
   "outputs": [],
   "source": [
    "lr_model_3_poly = LinearRegression()\n",
    "lr_model_3_poly.fit(X_train_scaled_all, y_train)\n",
    "\n",
    "#Scores\n",
    "train_score_poly = lr_model_3_poly.score(X_train_scaled_all, y_train)\n",
    "test_score_poly = lr_model_3_poly.score(X_test_scaled_all, y_test)\n",
    "\n",
    "#Adj R2\n",
    "adjusted_r2 = 1 - (1-lr_model_3_poly.score(X_test_scaled_all, y_test))*(len(y_test)-1)/(len(y_test)-X_test_scaled_all.shape[1]-1)"
   ]
  },
  {
   "cell_type": "code",
   "execution_count": 187,
   "metadata": {},
   "outputs": [
    {
     "name": "stdout",
     "output_type": "stream",
     "text": [
      "\n",
      "Train R^2 score was: 0.9847539772244699\n",
      "\n",
      "Validation R^2 score was: 0.9850091235943983\n",
      "\n",
      "Validation adjusted R^2 was: 0.9844583105991194\n",
      "\n",
      "Feature coefficient results: \n",
      "\n"
     ]
    },
    {
     "ename": "AttributeError",
     "evalue": "'numpy.ndarray' object has no attribute 'columns'",
     "output_type": "error",
     "traceback": [
      "\u001b[0;31m---------------------------------------------------------------------------\u001b[0m",
      "\u001b[0;31mAttributeError\u001b[0m                            Traceback (most recent call last)",
      "\u001b[0;32m<ipython-input-187-9025d41f7c00>\u001b[0m in \u001b[0;36m<module>\u001b[0;34m\u001b[0m\n\u001b[1;32m      4\u001b[0m \u001b[0mprint\u001b[0m\u001b[0;34m(\u001b[0m\u001b[0;34m'\\nValidation adjusted R^2 was:'\u001b[0m\u001b[0;34m,\u001b[0m\u001b[0madjusted_r2\u001b[0m\u001b[0;34m)\u001b[0m\u001b[0;34m\u001b[0m\u001b[0;34m\u001b[0m\u001b[0m\n\u001b[1;32m      5\u001b[0m \u001b[0mprint\u001b[0m\u001b[0;34m(\u001b[0m\u001b[0;34m'\\nFeature coefficient results: \\n'\u001b[0m\u001b[0;34m)\u001b[0m\u001b[0;34m\u001b[0m\u001b[0;34m\u001b[0m\u001b[0m\n\u001b[0;32m----> 6\u001b[0;31m \u001b[0;32mfor\u001b[0m \u001b[0mfeature\u001b[0m\u001b[0;34m,\u001b[0m \u001b[0mcoef\u001b[0m \u001b[0;32min\u001b[0m \u001b[0mzip\u001b[0m\u001b[0;34m(\u001b[0m\u001b[0mX_train_poly\u001b[0m\u001b[0;34m.\u001b[0m\u001b[0mcolumns\u001b[0m\u001b[0;34m,\u001b[0m \u001b[0mlr_model_3_poly\u001b[0m\u001b[0;34m.\u001b[0m\u001b[0mcoef_\u001b[0m\u001b[0;34m)\u001b[0m\u001b[0;34m:\u001b[0m\u001b[0;34m\u001b[0m\u001b[0;34m\u001b[0m\u001b[0m\n\u001b[0m\u001b[1;32m      7\u001b[0m     \u001b[0mprint\u001b[0m\u001b[0;34m(\u001b[0m\u001b[0mfeature\u001b[0m\u001b[0;34m,\u001b[0m \u001b[0;34m':'\u001b[0m\u001b[0;34m,\u001b[0m \u001b[0;34mf'{coef:.2f}'\u001b[0m\u001b[0;34m)\u001b[0m\u001b[0;34m\u001b[0m\u001b[0;34m\u001b[0m\u001b[0m\n",
      "\u001b[0;31mAttributeError\u001b[0m: 'numpy.ndarray' object has no attribute 'columns'"
     ]
    }
   ],
   "source": [
    "#print outputs\n",
    "print('\\nTrain R^2 score was:', train_score_poly)\n",
    "print('\\nValidation R^2 score was:', test_score_poly)\n",
    "print('\\nValidation adjusted R^2 was:',adjusted_r2)\n",
    "print('\\nFeature coefficient results: \\n')\n",
    "for feature, coef in zip(X_train_poly.columns, lr_model_3_poly.coef_):\n",
    "    print(feature, ':', f'{coef:.2f}')"
   ]
  },
  {
   "cell_type": "code",
   "execution_count": null,
   "metadata": {},
   "outputs": [],
   "source": []
  },
  {
   "cell_type": "code",
   "execution_count": null,
   "metadata": {},
   "outputs": [],
   "source": []
  },
  {
   "cell_type": "code",
   "execution_count": null,
   "metadata": {},
   "outputs": [],
   "source": []
  },
  {
   "cell_type": "code",
   "execution_count": null,
   "metadata": {},
   "outputs": [],
   "source": []
  },
  {
   "cell_type": "code",
   "execution_count": null,
   "metadata": {},
   "outputs": [],
   "source": []
  },
  {
   "cell_type": "code",
   "execution_count": null,
   "metadata": {},
   "outputs": [],
   "source": []
  },
  {
   "cell_type": "code",
   "execution_count": null,
   "metadata": {},
   "outputs": [],
   "source": []
  },
  {
   "cell_type": "code",
   "execution_count": null,
   "metadata": {},
   "outputs": [],
   "source": []
  },
  {
   "cell_type": "markdown",
   "metadata": {},
   "source": [
    "### Use Zipcode"
   ]
  },
  {
   "cell_type": "code",
   "execution_count": null,
   "metadata": {},
   "outputs": [],
   "source": [
    "df2.info()"
   ]
  },
  {
   "cell_type": "code",
   "execution_count": null,
   "metadata": {},
   "outputs": [],
   "source": [
    "zip_ct = df2.groupby('location.address.postal_code')['listing_id'].count().reset_index()"
   ]
  },
  {
   "cell_type": "code",
   "execution_count": null,
   "metadata": {},
   "outputs": [],
   "source": [
    "zip_ct.sort_values(by = 'listing_id', ascending = True)"
   ]
  },
  {
   "cell_type": "code",
   "execution_count": null,
   "metadata": {},
   "outputs": [],
   "source": [
    "zip_ct = zip_ct[zip_ct['listing_id'] >= 50]"
   ]
  },
  {
   "cell_type": "code",
   "execution_count": null,
   "metadata": {},
   "outputs": [],
   "source": [
    "zip_ct"
   ]
  },
  {
   "cell_type": "code",
   "execution_count": null,
   "metadata": {},
   "outputs": [],
   "source": [
    "zip_to_keep = zip_ct['location.address.postal_code'].tolist()"
   ]
  },
  {
   "cell_type": "code",
   "execution_count": null,
   "metadata": {},
   "outputs": [],
   "source": [
    "df2 = df2[df2['location.address.postal_code'].isin(zip_to_keep)]"
   ]
  },
  {
   "cell_type": "code",
   "execution_count": null,
   "metadata": {},
   "outputs": [],
   "source": [
    "df2.info()"
   ]
  },
  {
   "cell_type": "code",
   "execution_count": null,
   "metadata": {},
   "outputs": [],
   "source": [
    "features2 = ['description.year_built','description.baths_3qtr','description.baths_full','description.baths_half',\n",
    "                'description.lot_sqft','description.sqft','description.baths','description.garage',\n",
    "                'description.stories','description.beds', 'description.type','location.address.postal_code']"
   ]
  },
  {
   "cell_type": "code",
   "execution_count": null,
   "metadata": {},
   "outputs": [],
   "source": [
    "X = df2[features2]\n",
    "y = df2.iloc[:, 5]"
   ]
  },
  {
   "cell_type": "code",
   "execution_count": null,
   "metadata": {},
   "outputs": [],
   "source": [
    "X = X.fillna(0)"
   ]
  },
  {
   "cell_type": "code",
   "execution_count": null,
   "metadata": {},
   "outputs": [],
   "source": [
    "X.info()"
   ]
  },
  {
   "cell_type": "code",
   "execution_count": null,
   "metadata": {},
   "outputs": [],
   "source": [
    "#test/train split\n",
    "X_train_val, X_test, y_train_val, y_test = train_test_split(X, y, test_size=0.2, random_state=10, stratify = X['location.address.postal_code'])\n",
    "X_train, X_val, y_train, y_val = train_test_split(X_train_val, y_train_val, test_size = 0.2, random_state = 40, stratify = X_train_val['location.address.postal_code'])"
   ]
  },
  {
   "cell_type": "code",
   "execution_count": null,
   "metadata": {},
   "outputs": [],
   "source": [
    "city_dummies = pd.get_dummies(X_train['location.address.postal_code'])\n",
    "X_train = X_train.join(city_dummies)\n",
    "X_train.drop(columns = ['location.address.postal_code', '90011'], inplace = True)"
   ]
  },
  {
   "cell_type": "code",
   "execution_count": null,
   "metadata": {},
   "outputs": [],
   "source": [
    "city_dummies = pd.get_dummies(X_test['location.address.postal_code'])\n",
    "X_test = X_test.join(city_dummies)\n",
    "X_test.drop(columns = ['location.address.postal_code', '90011'], inplace = True)"
   ]
  },
  {
   "cell_type": "code",
   "execution_count": null,
   "metadata": {},
   "outputs": [],
   "source": [
    "type_dummies = pd.get_dummies(X_train['description.type'])\n",
    "X_train = X_train.join(type_dummies)\n",
    "X_train.drop(columns = ['description.type', 'mobile'], inplace = True)"
   ]
  },
  {
   "cell_type": "code",
   "execution_count": null,
   "metadata": {},
   "outputs": [],
   "source": [
    "type_dummies = pd.get_dummies(X_test['description.type'])\n",
    "X_test = X_test.join(type_dummies)\n",
    "X_test.drop(columns = ['description.type', 'mobile'], inplace = True)"
   ]
  },
  {
   "cell_type": "code",
   "execution_count": null,
   "metadata": {},
   "outputs": [],
   "source": [
    "#fit mode2\n",
    "lr_model_2 = LinearRegression()\n",
    "lr_model_2.fit(X_train, y_train)\n",
    "\n",
    "#Scores\n",
    "train_score = lr_model_2.score(X_train, y_train)\n",
    "test_score = lr_model_2.score(X_test, y_test)\n",
    "\n",
    "#Adj R2\n",
    "adjusted_r2 = 1 - (1-lr_model_2.score(X_test, y_test))*(len(y_test)-1)/(len(y_test)-X_test.shape[1]-1)"
   ]
  },
  {
   "cell_type": "code",
   "execution_count": null,
   "metadata": {},
   "outputs": [],
   "source": [
    "#print outputs\n",
    "print('\\nTrain R^2 score was:', train_score)\n",
    "print('\\nValidation R^2 score was:', test_score)\n",
    "print('\\nValidation adjusted R^2 was:',adjusted_r2)\n",
    "print('\\nFeature coefficient results: \\n')\n",
    "for feature, coef in zip(X_train.columns, lr_model_2.coef_):\n",
    "    print(feature, ':', f'{coef:.2f}')"
   ]
  },
  {
   "cell_type": "code",
   "execution_count": null,
   "metadata": {},
   "outputs": [],
   "source": []
  },
  {
   "cell_type": "markdown",
   "metadata": {},
   "source": [
    "### Use County names"
   ]
  },
  {
   "cell_type": "code",
   "execution_count": null,
   "metadata": {},
   "outputs": [],
   "source": [
    "df['location.county.name'].nunique()"
   ]
  },
  {
   "cell_type": "code",
   "execution_count": null,
   "metadata": {},
   "outputs": [],
   "source": [
    "df3 = df[df['location.county.name'].notnull()]"
   ]
  },
  {
   "cell_type": "code",
   "execution_count": null,
   "metadata": {},
   "outputs": [],
   "source": [
    "county_ct = df3.groupby(\"location.county.name\")[\"listing_id\"].count().reset_index()"
   ]
  },
  {
   "cell_type": "code",
   "execution_count": null,
   "metadata": {},
   "outputs": [],
   "source": [
    "county_ct.sort_values(by='listing_id', ascending = True)"
   ]
  },
  {
   "cell_type": "code",
   "execution_count": null,
   "metadata": {},
   "outputs": [],
   "source": [
    "county_ct = county_ct[county_ct['listing_id'] >= 50]"
   ]
  },
  {
   "cell_type": "code",
   "execution_count": null,
   "metadata": {},
   "outputs": [],
   "source": [
    "county_ct.sort_values(by = 'listing_id')"
   ]
  },
  {
   "cell_type": "code",
   "execution_count": null,
   "metadata": {},
   "outputs": [],
   "source": [
    "county_to_keep = county_ct['location.county.name'].tolist()"
   ]
  },
  {
   "cell_type": "code",
   "execution_count": null,
   "metadata": {},
   "outputs": [],
   "source": [
    "df3 = df3[df3['location.address.city'].isin(county_to_keep)]"
   ]
  },
  {
   "cell_type": "code",
   "execution_count": null,
   "metadata": {},
   "outputs": [],
   "source": [
    "df3.info()"
   ]
  },
  {
   "cell_type": "code",
   "execution_count": null,
   "metadata": {},
   "outputs": [],
   "source": [
    "features3 = ['description.year_built','description.baths_3qtr','description.baths_full','description.baths_half',\n",
    "                'description.lot_sqft','description.sqft','description.baths','description.garage',\n",
    "                'description.stories','description.beds', 'description.type','location.county.name']"
   ]
  },
  {
   "cell_type": "code",
   "execution_count": null,
   "metadata": {},
   "outputs": [],
   "source": [
    "X = df3[features3]\n",
    "y = df3.iloc[:, 5]"
   ]
  },
  {
   "cell_type": "code",
   "execution_count": null,
   "metadata": {},
   "outputs": [],
   "source": [
    "X = X.fillna(0)"
   ]
  },
  {
   "cell_type": "code",
   "execution_count": null,
   "metadata": {},
   "outputs": [],
   "source": [
    "#test/train split\n",
    "X_train_val, X_test, y_train_val, y_test = train_test_split(X, y, test_size=0.2, random_state=121, stratify = X['location.county.name'])\n",
    "X_train, X_val, y_train, y_val = train_test_split(X_train_val, y_train_val, test_size = 0.2, random_state = 123, stratify = X_train_val['location.county.name'])\n"
   ]
  },
  {
   "cell_type": "code",
   "execution_count": null,
   "metadata": {},
   "outputs": [],
   "source": [
    "city_dummies = pd.get_dummies(X_train['location.county.name'])\n",
    "X_train = X_train.join(city_dummies)\n",
    "X_train.drop(columns = ['location.county.name', 'Tuolumne'], inplace = True)"
   ]
  },
  {
   "cell_type": "code",
   "execution_count": null,
   "metadata": {},
   "outputs": [],
   "source": [
    "city_dummies = pd.get_dummies(X_test['location.county.name'])\n",
    "X_test = X_test.join(city_dummies)\n",
    "X_test.drop(columns = ['location.county.name', 'Tuolumne'], inplace = True)"
   ]
  },
  {
   "cell_type": "code",
   "execution_count": null,
   "metadata": {},
   "outputs": [],
   "source": [
    "type_dummies = pd.get_dummies(X_train['description.type'])\n",
    "X_train = X_train.join(type_dummies)\n",
    "X_train.drop(columns = ['description.type', 'mobile'], inplace = True)"
   ]
  },
  {
   "cell_type": "code",
   "execution_count": null,
   "metadata": {},
   "outputs": [],
   "source": [
    "type_dummies = pd.get_dummies(X_test['description.type'])\n",
    "X_test = X_test.join(type_dummies)\n",
    "X_test.drop(columns = ['description.type', 'mobile'], inplace = True)"
   ]
  },
  {
   "cell_type": "code",
   "execution_count": null,
   "metadata": {},
   "outputs": [],
   "source": [
    "#fit mode3\n",
    "lr_model_3 = LinearRegression()\n",
    "lr_model_3.fit(X_train, y_train)\n",
    "\n",
    "#Scores\n",
    "train_score = lr_model_3.score(X_train, y_train)\n",
    "test_score = lr_model_3.score(X_test, y_test)\n",
    "\n",
    "#Adj R2\n",
    "adjusted_r2 = 1 - (1-lr_model_3.score(X_test, y_test))*(len(y_test)-1)/(len(y_test)-X_test.shape[1]-1)"
   ]
  },
  {
   "cell_type": "code",
   "execution_count": null,
   "metadata": {
    "scrolled": true
   },
   "outputs": [],
   "source": [
    "#print outputs\n",
    "print('\\nTrain R^2 score was:', train_score)\n",
    "print('\\nValidation R^2 score was:', test_score)\n",
    "print('\\nValidation adjusted R^2 was:',adjusted_r2)\n",
    "print('\\nFeature coefficient results: \\n')\n",
    "for feature, coef in zip(X_train.columns, lr_model_3.coef_):\n",
    "    print(feature, ':', f'{coef:.2f}')"
   ]
  },
  {
   "cell_type": "markdown",
   "metadata": {},
   "source": [
    "### iteration 2 further improve"
   ]
  },
  {
   "cell_type": "code",
   "execution_count": null,
   "metadata": {},
   "outputs": [],
   "source": [
    "df3.info()"
   ]
  },
  {
   "cell_type": "code",
   "execution_count": null,
   "metadata": {},
   "outputs": [],
   "source": [
    "from sklearn.preprocessing import StandardScaler\n",
    "from sklearn.preprocessing import PolynomialFeatures"
   ]
  },
  {
   "cell_type": "code",
   "execution_count": null,
   "metadata": {},
   "outputs": [],
   "source": [
    "# Don't forget to standard scale your data for regularized regression\n",
    "scaler = StandardScaler()\n",
    "X_train_scaled = scaler.fit_transform(X_train)\n",
    "\n",
    "# Apply the same scaler to val set\n",
    "X_test_scaled = scaler.transform(X_test)"
   ]
  },
  {
   "cell_type": "code",
   "execution_count": null,
   "metadata": {},
   "outputs": [],
   "source": [
    "X_test_scaled"
   ]
  },
  {
   "cell_type": "code",
   "execution_count": null,
   "metadata": {},
   "outputs": [],
   "source": [
    "#fit mode4\n",
    "lr_model_4 = LinearRegression()\n",
    "lr_model_4.fit(X_train_scaled, y_train)\n",
    "\n",
    "#Scores\n",
    "train_score = lr_model_4.score(X_train_scaled, y_train)\n",
    "test_score = lr_model_4.score(X_test_scaled, y_test)\n",
    "\n",
    "#Adj R2\n",
    "adjusted_r2 = 1 - (1-lr_model_4.score(X_test_scaled,y_test))*(len(y_test)-1)/(len(y_test)-X_test_scaled.shape[1]-1)"
   ]
  },
  {
   "cell_type": "code",
   "execution_count": null,
   "metadata": {},
   "outputs": [],
   "source": [
    "#print outputs\n",
    "print('\\nTrain R^2 score was:', train_score)\n",
    "print('\\nValidation R^2 score was:', test_score)\n",
    "print('\\nValidation adjusted R^2 was:',adjusted_r2)\n",
    "print('\\nFeature coefficient results: \\n')\n",
    "for feature, coef in zip(X_train.columns, lr_model_4.coef_):\n",
    "    print(feature, ':', f'{coef:.2f}')"
   ]
  },
  {
   "cell_type": "markdown",
   "metadata": {},
   "source": [
    "### Apply regularization"
   ]
  },
  {
   "cell_type": "code",
   "execution_count": null,
   "metadata": {
    "scrolled": true
   },
   "outputs": [],
   "source": [
    "df3.info()"
   ]
  },
  {
   "cell_type": "code",
   "execution_count": null,
   "metadata": {},
   "outputs": [],
   "source": [
    "X_train.info()"
   ]
  },
  {
   "cell_type": "code",
   "execution_count": null,
   "metadata": {},
   "outputs": [],
   "source": [
    "df_tmp = df3[['description.year_built','description.baths_3qtr','description.baths_full','description.baths_half',\n",
    "                     'description.lot_sqft','description.sqft','description.baths','description.garage','description.stories','description.beds','description.sold_price']]"
   ]
  },
  {
   "cell_type": "code",
   "execution_count": null,
   "metadata": {},
   "outputs": [],
   "source": [
    "X_tmp = df_tmp[['description.year_built','description.baths_3qtr','description.baths_full','description.baths_half',\n",
    "                     'description.lot_sqft','description.sqft','description.baths','description.garage','description.stories','description.beds']]\n",
    "y_tmp = df_tmp.iloc[:,-1]"
   ]
  },
  {
   "cell_type": "code",
   "execution_count": null,
   "metadata": {},
   "outputs": [],
   "source": [
    "X_tmp = X_tmp.fillna(0)"
   ]
  },
  {
   "cell_type": "code",
   "execution_count": null,
   "metadata": {},
   "outputs": [],
   "source": [
    "#test/train split\n",
    "X_train_val, X_test, y_train_val, y_test = train_test_split(X_tmp, y_tmp, test_size=0.2, random_state=10)\n",
    "X_train, X_val, y_train, y_val = train_test_split(X_train_val, y_train_val, test_size = 0.2, random_state = 40)"
   ]
  },
  {
   "cell_type": "code",
   "execution_count": null,
   "metadata": {},
   "outputs": [],
   "source": []
  },
  {
   "cell_type": "code",
   "execution_count": null,
   "metadata": {},
   "outputs": [],
   "source": [
    "poly = PolynomialFeatures(degree=2)\n",
    "X_train_poly = poly.fit_transform(X_train)\n",
    "X_test_poly = poly.transform(X_test)\n",
    "lr_poly = LinearRegression()\n",
    "fit = lr_poly.fit(X_train_poly,y_train)\n",
    "train_score = lr_poly.score(X_train_poly, y_train)\n",
    "val_score = lr_poly.score(X_test_poly, y_test)\n",
    "print('\\nPoly Validation R^2 score was:', train_score)\n"
   ]
  },
  {
   "cell_type": "code",
   "execution_count": null,
   "metadata": {},
   "outputs": [],
   "source": [
    "val_score"
   ]
  },
  {
   "cell_type": "code",
   "execution_count": null,
   "metadata": {},
   "outputs": [],
   "source": [
    "val_score = lr_poly.score(X_test_poly, y_test)"
   ]
  },
  {
   "cell_type": "code",
   "execution_count": null,
   "metadata": {},
   "outputs": [],
   "source": [
    "from sklearn.preprocessing import PolynomialFeatures"
   ]
  },
  {
   "cell_type": "code",
   "execution_count": null,
   "metadata": {},
   "outputs": [],
   "source": [
    "df3.info()"
   ]
  },
  {
   "cell_type": "code",
   "execution_count": null,
   "metadata": {},
   "outputs": [],
   "source": []
  }
 ],
 "metadata": {
  "kernelspec": {
   "display_name": "firstEnv",
   "language": "python",
   "name": "firstenv"
  },
  "language_info": {
   "codemirror_mode": {
    "name": "ipython",
    "version": 3
   },
   "file_extension": ".py",
   "mimetype": "text/x-python",
   "name": "python",
   "nbconvert_exporter": "python",
   "pygments_lexer": "ipython3",
   "version": "3.9.4"
  }
 },
 "nbformat": 4,
 "nbformat_minor": 4
}
